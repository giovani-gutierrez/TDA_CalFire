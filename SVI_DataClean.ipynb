{
  "cells": [
    {
      "cell_type": "code",
      "execution_count": 10,
      "metadata": {
        "id": "0I5QZ5FXJFuT"
      },
      "outputs": [],
      "source": [
        "import numpy as np\n",
        "import pandas as pd\n",
        "import matplotlib.pyplot as plt\n",
        "import geopandas as gpd\n",
        "from skimpy import clean_columns\n",
        "import requests\n",
        "import re"
      ]
    },
    {
      "cell_type": "markdown",
      "metadata": {
        "id": "wgMrKo-jQUSd"
      },
      "source": [
        "## County of Los Angeles Fire Department (LACoFD) Fire Station Locations"
      ]
    },
    {
      "cell_type": "code",
      "execution_count": 37,
      "metadata": {
        "id": "xnSSdIwtV5XB"
      },
      "outputs": [],
      "source": [
        "# read in LACoFD station locations\n",
        "url = 'https://services.arcgis.com/RmCCgQtiZLDCtblq/arcgis/rest/services/LACoFD_Fire_Station_Locations/FeatureServer/0/query?outFields=*&where=1%3D1&f=geojson'\n",
        "data = requests.get(url)\n",
        "stations = gpd.GeoDataFrame.from_features(data.json())"
      ]
    },
    {
      "cell_type": "code",
      "execution_count": 38,
      "metadata": {
        "id": "0sqZ2AqMJ0Wq"
      },
      "outputs": [],
      "source": [
        "# set crs\n",
        "stations = stations.set_crs('EPSG:4326')"
      ]
    },
    {
      "cell_type": "code",
      "execution_count": 39,
      "metadata": {},
      "outputs": [
        {
          "data": {
            "text/plain": [
              "(174, 15)"
            ]
          },
          "execution_count": 39,
          "metadata": {},
          "output_type": "execute_result"
        }
      ],
      "source": [
        "# num of obs and columns\n",
        "stations.shape"
      ]
    },
    {
      "cell_type": "code",
      "execution_count": 30,
      "metadata": {
        "colab": {
          "base_uri": "https://localhost:8080/",
          "height": 206
        },
        "id": "C6JqAeGKJ2H-",
        "outputId": "083bc16f-5496-4005-e60f-aaba500ea899"
      },
      "outputs": [
        {
          "data": {
            "text/html": [
              "<div>\n",
              "<style scoped>\n",
              "    .dataframe tbody tr th:only-of-type {\n",
              "        vertical-align: middle;\n",
              "    }\n",
              "\n",
              "    .dataframe tbody tr th {\n",
              "        vertical-align: top;\n",
              "    }\n",
              "\n",
              "    .dataframe thead th {\n",
              "        text-align: right;\n",
              "    }\n",
              "</style>\n",
              "<table border=\"1\" class=\"dataframe\">\n",
              "  <thead>\n",
              "    <tr style=\"text-align: right;\">\n",
              "      <th></th>\n",
              "      <th>geometry</th>\n",
              "      <th>OBJECTID</th>\n",
              "      <th>STANUM</th>\n",
              "      <th>CITYNAME_A</th>\n",
              "      <th>ADDRESS</th>\n",
              "      <th>CITY</th>\n",
              "      <th>STATEZIP</th>\n",
              "      <th>BN</th>\n",
              "      <th>DIV</th>\n",
              "      <th>REGION</th>\n",
              "      <th>GlobalID</th>\n",
              "      <th>SD</th>\n",
              "      <th>SAND</th>\n",
              "      <th>TELEPHONE</th>\n",
              "      <th>BAGS</th>\n",
              "    </tr>\n",
              "  </thead>\n",
              "  <tbody>\n",
              "    <tr>\n",
              "      <th>0</th>\n",
              "      <td>POINT (-118.79741 34.75939)</td>\n",
              "      <td>1</td>\n",
              "      <td>77</td>\n",
              "      <td>COUNTY</td>\n",
              "      <td>46833 Peace Valley Road</td>\n",
              "      <td>Gorman</td>\n",
              "      <td>CA 93243-0002</td>\n",
              "      <td>6</td>\n",
              "      <td>III</td>\n",
              "      <td>North</td>\n",
              "      <td>67422530-bb34-4f72-9cd2-783cacd4858a</td>\n",
              "      <td>5.0</td>\n",
              "      <td>Yes</td>\n",
              "      <td>661-248-5284</td>\n",
              "      <td>Yes</td>\n",
              "    </tr>\n",
              "    <tr>\n",
              "      <th>1</th>\n",
              "      <td>POINT (-118.28819 34.75441)</td>\n",
              "      <td>2</td>\n",
              "      <td>112</td>\n",
              "      <td>COUNTY</td>\n",
              "      <td>8812 W. Avenue E-8</td>\n",
              "      <td>Lancaster</td>\n",
              "      <td>CA 93535-9662</td>\n",
              "      <td>11</td>\n",
              "      <td>V</td>\n",
              "      <td>North</td>\n",
              "      <td>a369b226-5f3c-45e5-a75f-96225a06faba</td>\n",
              "      <td>NaN</td>\n",
              "      <td>None</td>\n",
              "      <td>None</td>\n",
              "      <td>None</td>\n",
              "    </tr>\n",
              "    <tr>\n",
              "      <th>2</th>\n",
              "      <td>POINT (-118.07747 34.69867)</td>\n",
              "      <td>3</td>\n",
              "      <td>117</td>\n",
              "      <td>LANCASTER</td>\n",
              "      <td>44851 30th Street East</td>\n",
              "      <td>Lancaster</td>\n",
              "      <td>CA 93535-1338</td>\n",
              "      <td>11</td>\n",
              "      <td>V</td>\n",
              "      <td>North</td>\n",
              "      <td>fe24a921-2033-4a6b-b3ee-b29ac7b1c10a</td>\n",
              "      <td>5.0</td>\n",
              "      <td>No</td>\n",
              "      <td>661-946-0471</td>\n",
              "      <td>Yes</td>\n",
              "    </tr>\n",
              "    <tr>\n",
              "      <th>3</th>\n",
              "      <td>POINT (-118.14139 34.69939)</td>\n",
              "      <td>4</td>\n",
              "      <td>33</td>\n",
              "      <td>LANCASTER</td>\n",
              "      <td>44947 Date Avenue</td>\n",
              "      <td>Lancaster</td>\n",
              "      <td>CA 93534-3213</td>\n",
              "      <td>11</td>\n",
              "      <td>V</td>\n",
              "      <td>North</td>\n",
              "      <td>9d7ae295-4c19-4ddf-ae80-adb3bc28d4c9</td>\n",
              "      <td>5.0</td>\n",
              "      <td>No</td>\n",
              "      <td>661-948-1180</td>\n",
              "      <td>Yes</td>\n",
              "    </tr>\n",
              "    <tr>\n",
              "      <th>4</th>\n",
              "      <td>POINT (-118.2011 34.69282)</td>\n",
              "      <td>5</td>\n",
              "      <td>130</td>\n",
              "      <td>LANCASTER</td>\n",
              "      <td>44558 40th Street West</td>\n",
              "      <td>Lancaster</td>\n",
              "      <td>CA 93536-9575</td>\n",
              "      <td>11</td>\n",
              "      <td>V</td>\n",
              "      <td>North</td>\n",
              "      <td>ba30861a-9219-4c88-9ec7-3856e21716c8</td>\n",
              "      <td>5.0</td>\n",
              "      <td>No</td>\n",
              "      <td>661-945-5788</td>\n",
              "      <td>Yes</td>\n",
              "    </tr>\n",
              "  </tbody>\n",
              "</table>\n",
              "</div>"
            ],
            "text/plain": [
              "                      geometry  OBJECTID  STANUM  CITYNAME_A  \\\n",
              "0  POINT (-118.79741 34.75939)         1      77      COUNTY   \n",
              "1  POINT (-118.28819 34.75441)         2     112     COUNTY    \n",
              "2  POINT (-118.07747 34.69867)         3     117   LANCASTER   \n",
              "3  POINT (-118.14139 34.69939)         4      33   LANCASTER   \n",
              "4   POINT (-118.2011 34.69282)         5     130  LANCASTER    \n",
              "\n",
              "                   ADDRESS       CITY        STATEZIP  BN  DIV REGION  \\\n",
              "0  46833 Peace Valley Road     Gorman   CA 93243-0002   6  III  North   \n",
              "1       8812 W. Avenue E-8  Lancaster   CA 93535-9662  11    V  North   \n",
              "2   44851 30th Street East  Lancaster   CA 93535-1338  11    V  North   \n",
              "3        44947 Date Avenue  Lancaster   CA 93534-3213  11    V  North   \n",
              "4   44558 40th Street West  Lancaster  CA 93536-9575   11    V  North   \n",
              "\n",
              "                               GlobalID   SD  SAND     TELEPHONE  BAGS  \n",
              "0  67422530-bb34-4f72-9cd2-783cacd4858a  5.0   Yes  661-248-5284   Yes  \n",
              "1  a369b226-5f3c-45e5-a75f-96225a06faba  NaN  None          None  None  \n",
              "2  fe24a921-2033-4a6b-b3ee-b29ac7b1c10a  5.0    No  661-946-0471   Yes  \n",
              "3  9d7ae295-4c19-4ddf-ae80-adb3bc28d4c9  5.0    No  661-948-1180   Yes  \n",
              "4  ba30861a-9219-4c88-9ec7-3856e21716c8  5.0    No  661-945-5788   Yes  "
            ]
          },
          "execution_count": 30,
          "metadata": {},
          "output_type": "execute_result"
        }
      ],
      "source": [
        "# preview\n",
        "stations.head()"
      ]
    },
    {
      "cell_type": "code",
      "execution_count": 41,
      "metadata": {
        "id": "c42MffKlI3k7"
      },
      "outputs": [],
      "source": [
        "# remove unecessary columns/variables\n",
        "stations = stations.drop(columns = [\n",
        "    'OBJECTID',\n",
        "    'CITYNAME_A',\n",
        "    'ADDRESS',\n",
        "    'CITY',\n",
        "    'STATEZIP', \n",
        "    'BN', \n",
        "    'DIV', \n",
        "    'REGION', \n",
        "    'GlobalID', \n",
        "    'SD', \n",
        "    'SAND',\n",
        "    'TELEPHONE', \n",
        "    'BAGS'\n",
        "])"
      ]
    },
    {
      "cell_type": "code",
      "execution_count": 42,
      "metadata": {
        "id": "k8GKq5jZJEqZ"
      },
      "outputs": [],
      "source": [
        "# replace all missing values with NaN\n",
        "stations = stations.fillna(value = np.nan)"
      ]
    },
    {
      "cell_type": "code",
      "execution_count": 43,
      "metadata": {
        "id": "shQD8WKo5WWy"
      },
      "outputs": [],
      "source": [
        "# replace 'None' values with NaN\n",
        "stations = stations.replace('None', np.nan)"
      ]
    },
    {
      "cell_type": "code",
      "execution_count": 44,
      "metadata": {
        "id": "Ijhjag0dJHh1"
      },
      "outputs": [],
      "source": [
        "# column names to snake case\n",
        "stations = clean_columns(stations)"
      ]
    },
    {
      "cell_type": "code",
      "execution_count": 46,
      "metadata": {
        "colab": {
          "base_uri": "https://localhost:8080/",
          "height": 206
        },
        "id": "AILYU6H67GX4",
        "outputId": "3cbb6075-324b-4c6d-dc92-c2c94f0f8ab6"
      },
      "outputs": [
        {
          "data": {
            "text/html": [
              "<div>\n",
              "<style scoped>\n",
              "    .dataframe tbody tr th:only-of-type {\n",
              "        vertical-align: middle;\n",
              "    }\n",
              "\n",
              "    .dataframe tbody tr th {\n",
              "        vertical-align: top;\n",
              "    }\n",
              "\n",
              "    .dataframe thead th {\n",
              "        text-align: right;\n",
              "    }\n",
              "</style>\n",
              "<table border=\"1\" class=\"dataframe\">\n",
              "  <thead>\n",
              "    <tr style=\"text-align: right;\">\n",
              "      <th></th>\n",
              "      <th>geometry</th>\n",
              "      <th>stanum</th>\n",
              "    </tr>\n",
              "  </thead>\n",
              "  <tbody>\n",
              "    <tr>\n",
              "      <th>0</th>\n",
              "      <td>POINT (-118.79741 34.75939)</td>\n",
              "      <td>77</td>\n",
              "    </tr>\n",
              "    <tr>\n",
              "      <th>1</th>\n",
              "      <td>POINT (-118.28819 34.75441)</td>\n",
              "      <td>112</td>\n",
              "    </tr>\n",
              "    <tr>\n",
              "      <th>2</th>\n",
              "      <td>POINT (-118.07747 34.69867)</td>\n",
              "      <td>117</td>\n",
              "    </tr>\n",
              "    <tr>\n",
              "      <th>3</th>\n",
              "      <td>POINT (-118.14139 34.69939)</td>\n",
              "      <td>33</td>\n",
              "    </tr>\n",
              "    <tr>\n",
              "      <th>4</th>\n",
              "      <td>POINT (-118.2011 34.69282)</td>\n",
              "      <td>130</td>\n",
              "    </tr>\n",
              "    <tr>\n",
              "      <th>...</th>\n",
              "      <td>...</td>\n",
              "      <td>...</td>\n",
              "    </tr>\n",
              "    <tr>\n",
              "      <th>169</th>\n",
              "      <td>POINT (-118.38457 33.74477)</td>\n",
              "      <td>53</td>\n",
              "    </tr>\n",
              "    <tr>\n",
              "      <th>170</th>\n",
              "      <td>POINT (-118.50675 34.42825)</td>\n",
              "      <td>104</td>\n",
              "    </tr>\n",
              "    <tr>\n",
              "      <th>171</th>\n",
              "      <td>POINT (-118.39664 33.86415)</td>\n",
              "      <td>100</td>\n",
              "    </tr>\n",
              "    <tr>\n",
              "      <th>172</th>\n",
              "      <td>POINT (-118.20558 33.99697)</td>\n",
              "      <td>13</td>\n",
              "    </tr>\n",
              "    <tr>\n",
              "      <th>173</th>\n",
              "      <td>POINT (-118.23051 34.00551)</td>\n",
              "      <td>52</td>\n",
              "    </tr>\n",
              "  </tbody>\n",
              "</table>\n",
              "<p>174 rows × 2 columns</p>\n",
              "</div>"
            ],
            "text/plain": [
              "                        geometry  stanum\n",
              "0    POINT (-118.79741 34.75939)      77\n",
              "1    POINT (-118.28819 34.75441)     112\n",
              "2    POINT (-118.07747 34.69867)     117\n",
              "3    POINT (-118.14139 34.69939)      33\n",
              "4     POINT (-118.2011 34.69282)     130\n",
              "..                           ...     ...\n",
              "169  POINT (-118.38457 33.74477)      53\n",
              "170  POINT (-118.50675 34.42825)     104\n",
              "171  POINT (-118.39664 33.86415)     100\n",
              "172  POINT (-118.20558 33.99697)      13\n",
              "173  POINT (-118.23051 34.00551)      52\n",
              "\n",
              "[174 rows x 2 columns]"
            ]
          },
          "execution_count": 46,
          "metadata": {},
          "output_type": "execute_result"
        }
      ],
      "source": [
        "# preview cleaned dataframe\n",
        "stations"
      ]
    },
    {
      "cell_type": "code",
      "execution_count": 525,
      "metadata": {
        "id": "6kxlUR7xJ5Vz"
      },
      "outputs": [],
      "source": [
        "# save dataframe\n",
        "stations.to_file('Data/LACoFD_stations.geojson')"
      ]
    },
    {
      "cell_type": "markdown",
      "metadata": {
        "id": "JubyGYMHKjLV"
      },
      "source": [
        "## LACoFD Station Boundary Data"
      ]
    },
    {
      "cell_type": "code",
      "execution_count": 47,
      "metadata": {
        "id": "kgok8tjLIR9X"
      },
      "outputs": [],
      "source": [
        "# read in LACoFD station boundaries\n",
        "url = 'https://services.arcgis.com/RmCCgQtiZLDCtblq/arcgis/rest/services/LACoFD_Fire_Station_Boundaries/FeatureServer/0/query?outFields=*&where=1%3D1&f=geojson'\n",
        "data = requests.get(url)\n",
        "lacofd_bounds = gpd.GeoDataFrame.from_features(data.json())"
      ]
    },
    {
      "cell_type": "code",
      "execution_count": 48,
      "metadata": {
        "id": "AzZK8k0gKut4"
      },
      "outputs": [],
      "source": [
        "# set crs\n",
        "lacofd_bounds = lacofd_bounds.set_crs('EPSG:4326')"
      ]
    },
    {
      "cell_type": "code",
      "execution_count": 49,
      "metadata": {},
      "outputs": [
        {
          "data": {
            "text/plain": [
              "(174, 12)"
            ]
          },
          "execution_count": 49,
          "metadata": {},
          "output_type": "execute_result"
        }
      ],
      "source": [
        "lacofd_bounds.shape"
      ]
    },
    {
      "cell_type": "code",
      "execution_count": 50,
      "metadata": {
        "colab": {
          "base_uri": "https://localhost:8080/",
          "height": 206
        },
        "id": "WYBFv8GPKyMw",
        "outputId": "5a8d9162-99eb-4b2d-87c8-e3e66be9af87"
      },
      "outputs": [
        {
          "data": {
            "text/html": [
              "<div>\n",
              "<style scoped>\n",
              "    .dataframe tbody tr th:only-of-type {\n",
              "        vertical-align: middle;\n",
              "    }\n",
              "\n",
              "    .dataframe tbody tr th {\n",
              "        vertical-align: top;\n",
              "    }\n",
              "\n",
              "    .dataframe thead th {\n",
              "        text-align: right;\n",
              "    }\n",
              "</style>\n",
              "<table border=\"1\" class=\"dataframe\">\n",
              "  <thead>\n",
              "    <tr style=\"text-align: right;\">\n",
              "      <th></th>\n",
              "      <th>geometry</th>\n",
              "      <th>OBJECTID</th>\n",
              "      <th>STANUM</th>\n",
              "      <th>ADDRESS</th>\n",
              "      <th>CITY</th>\n",
              "      <th>STATEZIP</th>\n",
              "      <th>BATTID</th>\n",
              "      <th>DIV</th>\n",
              "      <th>Region</th>\n",
              "      <th>Shape__Area</th>\n",
              "      <th>Shape__Length</th>\n",
              "      <th>GlobalID</th>\n",
              "    </tr>\n",
              "  </thead>\n",
              "  <tbody>\n",
              "    <tr>\n",
              "      <th>0</th>\n",
              "      <td>POLYGON ((-117.80128 34.12354, -117.80075 34.1...</td>\n",
              "      <td>532</td>\n",
              "      <td>64</td>\n",
              "      <td>164 S. Walnut</td>\n",
              "      <td>San Dimas</td>\n",
              "      <td>CA 91773-2620</td>\n",
              "      <td>2</td>\n",
              "      <td>II</td>\n",
              "      <td>East</td>\n",
              "      <td>1.082029e+08</td>\n",
              "      <td>70429.794192</td>\n",
              "      <td>165df40f-0c64-4a2b-bd2b-71568ec25341</td>\n",
              "    </tr>\n",
              "    <tr>\n",
              "      <th>1</th>\n",
              "      <td>POLYGON ((-117.79084 34.09064, -117.7904 34.09...</td>\n",
              "      <td>533</td>\n",
              "      <td>184</td>\n",
              "      <td>1980 W. Orange Grove Ave.</td>\n",
              "      <td>Pomona</td>\n",
              "      <td>CA  91768-2046</td>\n",
              "      <td>15</td>\n",
              "      <td>VIII</td>\n",
              "      <td>East</td>\n",
              "      <td>1.213729e+08</td>\n",
              "      <td>62874.156832</td>\n",
              "      <td>5b21df6a-13f9-47ea-850d-ce8079fcaa82</td>\n",
              "    </tr>\n",
              "    <tr>\n",
              "      <th>2</th>\n",
              "      <td>POLYGON ((-117.72208 34.05206, -117.72237 34.0...</td>\n",
              "      <td>534</td>\n",
              "      <td>185</td>\n",
              "      <td>925 Lexington Ave.</td>\n",
              "      <td>Pomona</td>\n",
              "      <td>CA  91766-3256</td>\n",
              "      <td>15</td>\n",
              "      <td>VIII</td>\n",
              "      <td>East</td>\n",
              "      <td>1.156404e+08</td>\n",
              "      <td>48140.592963</td>\n",
              "      <td>8d70fcbd-facd-4496-85cf-fb49dac29194</td>\n",
              "    </tr>\n",
              "    <tr>\n",
              "      <th>3</th>\n",
              "      <td>POLYGON ((-117.72816 34.08692, -117.72814 34.0...</td>\n",
              "      <td>535</td>\n",
              "      <td>183</td>\n",
              "      <td>710 N. San Antonio Ave</td>\n",
              "      <td>Pomona</td>\n",
              "      <td>CA  91767-4910</td>\n",
              "      <td>15</td>\n",
              "      <td>VIII</td>\n",
              "      <td>East</td>\n",
              "      <td>9.838429e+07</td>\n",
              "      <td>46557.865399</td>\n",
              "      <td>2ad2aa00-b1b6-4f80-bdff-67ae897a1889</td>\n",
              "    </tr>\n",
              "    <tr>\n",
              "      <th>4</th>\n",
              "      <td>POLYGON ((-117.7454 34.11083, -117.74542 34.10...</td>\n",
              "      <td>536</td>\n",
              "      <td>186</td>\n",
              "      <td>280 E. Bonita Ave.</td>\n",
              "      <td>Pomona</td>\n",
              "      <td>CA  91767-1924</td>\n",
              "      <td>15</td>\n",
              "      <td>VIII</td>\n",
              "      <td>East</td>\n",
              "      <td>6.448470e+07</td>\n",
              "      <td>50207.948639</td>\n",
              "      <td>174d1800-9d54-4ad6-8865-db98d4bdf3f9</td>\n",
              "    </tr>\n",
              "  </tbody>\n",
              "</table>\n",
              "</div>"
            ],
            "text/plain": [
              "                                            geometry  OBJECTID  STANUM  \\\n",
              "0  POLYGON ((-117.80128 34.12354, -117.80075 34.1...       532      64   \n",
              "1  POLYGON ((-117.79084 34.09064, -117.7904 34.09...       533     184   \n",
              "2  POLYGON ((-117.72208 34.05206, -117.72237 34.0...       534     185   \n",
              "3  POLYGON ((-117.72816 34.08692, -117.72814 34.0...       535     183   \n",
              "4  POLYGON ((-117.7454 34.11083, -117.74542 34.10...       536     186   \n",
              "\n",
              "                     ADDRESS       CITY        STATEZIP  BATTID   DIV Region  \\\n",
              "0              164 S. Walnut  San Dimas   CA 91773-2620       2    II   East   \n",
              "1  1980 W. Orange Grove Ave.     Pomona  CA  91768-2046      15  VIII   East   \n",
              "2         925 Lexington Ave.     Pomona  CA  91766-3256      15  VIII   East   \n",
              "3     710 N. San Antonio Ave     Pomona  CA  91767-4910      15  VIII   East   \n",
              "4         280 E. Bonita Ave.     Pomona  CA  91767-1924      15  VIII   East   \n",
              "\n",
              "    Shape__Area  Shape__Length                              GlobalID  \n",
              "0  1.082029e+08   70429.794192  165df40f-0c64-4a2b-bd2b-71568ec25341  \n",
              "1  1.213729e+08   62874.156832  5b21df6a-13f9-47ea-850d-ce8079fcaa82  \n",
              "2  1.156404e+08   48140.592963  8d70fcbd-facd-4496-85cf-fb49dac29194  \n",
              "3  9.838429e+07   46557.865399  2ad2aa00-b1b6-4f80-bdff-67ae897a1889  \n",
              "4  6.448470e+07   50207.948639  174d1800-9d54-4ad6-8865-db98d4bdf3f9  "
            ]
          },
          "execution_count": 50,
          "metadata": {},
          "output_type": "execute_result"
        }
      ],
      "source": [
        "# preview dataset\n",
        "lacofd_bounds.head()"
      ]
    },
    {
      "cell_type": "code",
      "execution_count": 52,
      "metadata": {
        "id": "OMVUm_weK4Ba"
      },
      "outputs": [],
      "source": [
        "# remove unecessary columns/variables\n",
        "lacofd_bounds = lacofd_bounds.drop(columns = [\n",
        "    'OBJECTID',\n",
        "    'ADDRESS',\n",
        "    'CITY',\n",
        "    'STATEZIP',\n",
        "    'BATTID', \n",
        "    'DIV',\n",
        "    'Region',\n",
        "    'Shape__Area',\n",
        "    'Shape__Length',\n",
        "    'GlobalID'\n",
        "])"
      ]
    },
    {
      "cell_type": "code",
      "execution_count": 53,
      "metadata": {
        "id": "K1NyCZ6zJ_qO"
      },
      "outputs": [],
      "source": [
        "# column names to snake case\n",
        "lacofd_bounds = clean_columns(lacofd_bounds)"
      ]
    },
    {
      "cell_type": "code",
      "execution_count": 54,
      "metadata": {
        "colab": {
          "base_uri": "https://localhost:8080/",
          "height": 206
        },
        "id": "t7Dui2Ut7uZ-",
        "outputId": "478dba06-340f-411d-dea0-bc48bf52f6b4"
      },
      "outputs": [
        {
          "data": {
            "text/html": [
              "<div>\n",
              "<style scoped>\n",
              "    .dataframe tbody tr th:only-of-type {\n",
              "        vertical-align: middle;\n",
              "    }\n",
              "\n",
              "    .dataframe tbody tr th {\n",
              "        vertical-align: top;\n",
              "    }\n",
              "\n",
              "    .dataframe thead th {\n",
              "        text-align: right;\n",
              "    }\n",
              "</style>\n",
              "<table border=\"1\" class=\"dataframe\">\n",
              "  <thead>\n",
              "    <tr style=\"text-align: right;\">\n",
              "      <th></th>\n",
              "      <th>geometry</th>\n",
              "      <th>stanum</th>\n",
              "    </tr>\n",
              "  </thead>\n",
              "  <tbody>\n",
              "    <tr>\n",
              "      <th>0</th>\n",
              "      <td>POLYGON ((-117.80128 34.12354, -117.80075 34.1...</td>\n",
              "      <td>64</td>\n",
              "    </tr>\n",
              "    <tr>\n",
              "      <th>1</th>\n",
              "      <td>POLYGON ((-117.79084 34.09064, -117.7904 34.09...</td>\n",
              "      <td>184</td>\n",
              "    </tr>\n",
              "    <tr>\n",
              "      <th>2</th>\n",
              "      <td>POLYGON ((-117.72208 34.05206, -117.72237 34.0...</td>\n",
              "      <td>185</td>\n",
              "    </tr>\n",
              "    <tr>\n",
              "      <th>3</th>\n",
              "      <td>POLYGON ((-117.72816 34.08692, -117.72814 34.0...</td>\n",
              "      <td>183</td>\n",
              "    </tr>\n",
              "    <tr>\n",
              "      <th>4</th>\n",
              "      <td>POLYGON ((-117.7454 34.11083, -117.74542 34.10...</td>\n",
              "      <td>186</td>\n",
              "    </tr>\n",
              "  </tbody>\n",
              "</table>\n",
              "</div>"
            ],
            "text/plain": [
              "                                            geometry  stanum\n",
              "0  POLYGON ((-117.80128 34.12354, -117.80075 34.1...      64\n",
              "1  POLYGON ((-117.79084 34.09064, -117.7904 34.09...     184\n",
              "2  POLYGON ((-117.72208 34.05206, -117.72237 34.0...     185\n",
              "3  POLYGON ((-117.72816 34.08692, -117.72814 34.0...     183\n",
              "4  POLYGON ((-117.7454 34.11083, -117.74542 34.10...     186"
            ]
          },
          "execution_count": 54,
          "metadata": {},
          "output_type": "execute_result"
        }
      ],
      "source": [
        "# preview cleaned dataframe\n",
        "lacofd_bounds.head()"
      ]
    },
    {
      "cell_type": "code",
      "execution_count": 533,
      "metadata": {
        "id": "VNdSQ5RtLaGq"
      },
      "outputs": [],
      "source": [
        "# save dataframe\n",
        "lacofd_bounds.to_file('Data/LACoFD_station_boundaries.geojson')"
      ]
    },
    {
      "cell_type": "markdown",
      "metadata": {},
      "source": [
        "## Los Angeles Fire Department (LAFD) Station Locations"
      ]
    },
    {
      "cell_type": "code",
      "execution_count": 55,
      "metadata": {},
      "outputs": [],
      "source": [
        "# LAFD station locations\n",
        "url = 'https://services5.arcgis.com/7nsPwEMP38bSkCjy/arcgis/rest/services/LAFD_FireStations/FeatureServer/0/query?outFields=*&where=1%3D1&f=geojson'\n",
        "data = requests.get(url)\n",
        "lafd_stations = gpd.GeoDataFrame.from_features(data.json())"
      ]
    },
    {
      "cell_type": "code",
      "execution_count": 56,
      "metadata": {},
      "outputs": [],
      "source": [
        "# set crs\n",
        "lafd_stations = lafd_stations.set_crs('EPSG:4326')"
      ]
    },
    {
      "cell_type": "code",
      "execution_count": 57,
      "metadata": {},
      "outputs": [
        {
          "data": {
            "text/plain": [
              "(108, 29)"
            ]
          },
          "execution_count": 57,
          "metadata": {},
          "output_type": "execute_result"
        }
      ],
      "source": [
        "#\n",
        "lafd_stations.shape"
      ]
    },
    {
      "cell_type": "code",
      "execution_count": 58,
      "metadata": {},
      "outputs": [
        {
          "data": {
            "text/html": [
              "<div>\n",
              "<style scoped>\n",
              "    .dataframe tbody tr th:only-of-type {\n",
              "        vertical-align: middle;\n",
              "    }\n",
              "\n",
              "    .dataframe tbody tr th {\n",
              "        vertical-align: top;\n",
              "    }\n",
              "\n",
              "    .dataframe thead th {\n",
              "        text-align: right;\n",
              "    }\n",
              "</style>\n",
              "<table border=\"1\" class=\"dataframe\">\n",
              "  <thead>\n",
              "    <tr style=\"text-align: right;\">\n",
              "      <th></th>\n",
              "      <th>geometry</th>\n",
              "      <th>FID</th>\n",
              "      <th>OBJECTID</th>\n",
              "      <th>FS_CD</th>\n",
              "      <th>SHP_ADDR</th>\n",
              "      <th>ADDRESS</th>\n",
              "      <th>ZIP</th>\n",
              "      <th>DEPTNAME</th>\n",
              "      <th>MAILSTOP</th>\n",
              "      <th>HSENO</th>\n",
              "      <th>...</th>\n",
              "      <th>DATE_</th>\n",
              "      <th>FireStationFirstinDate</th>\n",
              "      <th>September4</th>\n",
              "      <th>September5</th>\n",
              "      <th>September6</th>\n",
              "      <th>September7</th>\n",
              "      <th>September8</th>\n",
              "      <th>September9</th>\n",
              "      <th>September10</th>\n",
              "      <th>WeeklyTotals</th>\n",
              "    </tr>\n",
              "  </thead>\n",
              "  <tbody>\n",
              "    <tr>\n",
              "      <th>0</th>\n",
              "      <td>POINT (-118.50059 34.16105)</td>\n",
              "      <td>1</td>\n",
              "      <td>1</td>\n",
              "      <td>83</td>\n",
              "      <td>Fire Station 083</td>\n",
              "      <td>4960 BALBOA BLVD</td>\n",
              "      <td>91436</td>\n",
              "      <td>VALLEY BUREAU</td>\n",
              "      <td>MS-880</td>\n",
              "      <td>4960</td>\n",
              "      <td>...</td>\n",
              "      <td>1.358381e+12</td>\n",
              "      <td>83.0</td>\n",
              "      <td>13.0</td>\n",
              "      <td>15.0</td>\n",
              "      <td>13.0</td>\n",
              "      <td>11.0</td>\n",
              "      <td>13.0</td>\n",
              "      <td>7.0</td>\n",
              "      <td>5.0</td>\n",
              "      <td>77.0</td>\n",
              "    </tr>\n",
              "    <tr>\n",
              "      <th>1</th>\n",
              "      <td>POINT (-118.45144 34.24239)</td>\n",
              "      <td>2</td>\n",
              "      <td>2</td>\n",
              "      <td>7</td>\n",
              "      <td>Fire Station 007</td>\n",
              "      <td>14630 PLUMMER ST</td>\n",
              "      <td>91402</td>\n",
              "      <td>FIRE</td>\n",
              "      <td>MS-878</td>\n",
              "      <td>14630</td>\n",
              "      <td>...</td>\n",
              "      <td>1.423613e+12</td>\n",
              "      <td>7.0</td>\n",
              "      <td>21.0</td>\n",
              "      <td>26.0</td>\n",
              "      <td>30.0</td>\n",
              "      <td>23.0</td>\n",
              "      <td>19.0</td>\n",
              "      <td>30.0</td>\n",
              "      <td>19.0</td>\n",
              "      <td>168.0</td>\n",
              "    </tr>\n",
              "    <tr>\n",
              "      <th>2</th>\n",
              "      <td>POINT (-118.25685 34.01275)</td>\n",
              "      <td>3</td>\n",
              "      <td>3</td>\n",
              "      <td>14</td>\n",
              "      <td>Fire Station 014</td>\n",
              "      <td>3401 S CENTRAL AV</td>\n",
              "      <td>90011</td>\n",
              "      <td>FIRE</td>\n",
              "      <td>MS-798</td>\n",
              "      <td>3401</td>\n",
              "      <td>...</td>\n",
              "      <td>NaN</td>\n",
              "      <td>14.0</td>\n",
              "      <td>21.0</td>\n",
              "      <td>13.0</td>\n",
              "      <td>20.0</td>\n",
              "      <td>18.0</td>\n",
              "      <td>20.0</td>\n",
              "      <td>22.0</td>\n",
              "      <td>21.0</td>\n",
              "      <td>135.0</td>\n",
              "    </tr>\n",
              "    <tr>\n",
              "      <th>3</th>\n",
              "      <td>POINT (-118.55892 34.2768)</td>\n",
              "      <td>4</td>\n",
              "      <td>4</td>\n",
              "      <td>8</td>\n",
              "      <td>Fire Station 008</td>\n",
              "      <td>11351 TAMPA AVE</td>\n",
              "      <td>91326</td>\n",
              "      <td>FIRE</td>\n",
              "      <td>MS-806</td>\n",
              "      <td>11351</td>\n",
              "      <td>...</td>\n",
              "      <td>NaN</td>\n",
              "      <td>8.0</td>\n",
              "      <td>4.0</td>\n",
              "      <td>3.0</td>\n",
              "      <td>7.0</td>\n",
              "      <td>2.0</td>\n",
              "      <td>3.0</td>\n",
              "      <td>4.0</td>\n",
              "      <td>5.0</td>\n",
              "      <td>28.0</td>\n",
              "    </tr>\n",
              "    <tr>\n",
              "      <th>4</th>\n",
              "      <td>POINT (-118.29344 33.75309)</td>\n",
              "      <td>5</td>\n",
              "      <td>5</td>\n",
              "      <td>36</td>\n",
              "      <td>Fire Station 036</td>\n",
              "      <td>1005 N GAFFEY ST</td>\n",
              "      <td>90732</td>\n",
              "      <td>FIRE</td>\n",
              "      <td>MS-</td>\n",
              "      <td>1005</td>\n",
              "      <td>...</td>\n",
              "      <td>NaN</td>\n",
              "      <td>36.0</td>\n",
              "      <td>7.0</td>\n",
              "      <td>7.0</td>\n",
              "      <td>7.0</td>\n",
              "      <td>5.0</td>\n",
              "      <td>8.0</td>\n",
              "      <td>5.0</td>\n",
              "      <td>12.0</td>\n",
              "      <td>51.0</td>\n",
              "    </tr>\n",
              "  </tbody>\n",
              "</table>\n",
              "<p>5 rows × 29 columns</p>\n",
              "</div>"
            ],
            "text/plain": [
              "                      geometry  FID  OBJECTID FS_CD          SHP_ADDR  \\\n",
              "0  POINT (-118.50059 34.16105)    1         1    83  Fire Station 083   \n",
              "1  POINT (-118.45144 34.24239)    2         2     7  Fire Station 007   \n",
              "2  POINT (-118.25685 34.01275)    3         3    14  Fire Station 014   \n",
              "3   POINT (-118.55892 34.2768)    4         4     8  Fire Station 008   \n",
              "4  POINT (-118.29344 33.75309)    5         5    36  Fire Station 036   \n",
              "\n",
              "             ADDRESS    ZIP       DEPTNAME MAILSTOP  HSENO  ...         DATE_  \\\n",
              "0   4960 BALBOA BLVD  91436  VALLEY BUREAU   MS-880   4960  ...  1.358381e+12   \n",
              "1   14630 PLUMMER ST  91402           FIRE   MS-878  14630  ...  1.423613e+12   \n",
              "2  3401 S CENTRAL AV  90011           FIRE   MS-798   3401  ...           NaN   \n",
              "3    11351 TAMPA AVE  91326           FIRE   MS-806  11351  ...           NaN   \n",
              "4   1005 N GAFFEY ST  90732           FIRE      MS-   1005  ...           NaN   \n",
              "\n",
              "  FireStationFirstinDate September4 September5 September6 September7  \\\n",
              "0                   83.0       13.0       15.0       13.0       11.0   \n",
              "1                    7.0       21.0       26.0       30.0       23.0   \n",
              "2                   14.0       21.0       13.0       20.0       18.0   \n",
              "3                    8.0        4.0        3.0        7.0        2.0   \n",
              "4                   36.0        7.0        7.0        7.0        5.0   \n",
              "\n",
              "   September8  September9  September10  WeeklyTotals  \n",
              "0        13.0         7.0          5.0          77.0  \n",
              "1        19.0        30.0         19.0         168.0  \n",
              "2        20.0        22.0         21.0         135.0  \n",
              "3         3.0         4.0          5.0          28.0  \n",
              "4         8.0         5.0         12.0          51.0  \n",
              "\n",
              "[5 rows x 29 columns]"
            ]
          },
          "execution_count": 58,
          "metadata": {},
          "output_type": "execute_result"
        }
      ],
      "source": [
        "# preview data\n",
        "lafd_stations.head()"
      ]
    },
    {
      "cell_type": "code",
      "execution_count": 59,
      "metadata": {},
      "outputs": [],
      "source": [
        "# drop unnecessary columns\n",
        "lafd_stations = lafd_stations[['FID', 'geometry']]"
      ]
    },
    {
      "cell_type": "code",
      "execution_count": 60,
      "metadata": {},
      "outputs": [],
      "source": [
        "# rename some columns\n",
        "lafd_stations = lafd_stations.rename(columns = {\n",
        "    'FS_CD': 'stanum'\n",
        "})"
      ]
    },
    {
      "cell_type": "code",
      "execution_count": 61,
      "metadata": {},
      "outputs": [],
      "source": [
        "# column names to snakecase\n",
        "lafd_stations = clean_columns(lafd_stations)"
      ]
    },
    {
      "cell_type": "code",
      "execution_count": 62,
      "metadata": {},
      "outputs": [],
      "source": [
        "# drop OWB and OSB observations\n",
        "lafd_stations = lafd_stations.drop([47, 48])"
      ]
    },
    {
      "cell_type": "code",
      "execution_count": 63,
      "metadata": {},
      "outputs": [
        {
          "data": {
            "text/html": [
              "<div>\n",
              "<style scoped>\n",
              "    .dataframe tbody tr th:only-of-type {\n",
              "        vertical-align: middle;\n",
              "    }\n",
              "\n",
              "    .dataframe tbody tr th {\n",
              "        vertical-align: top;\n",
              "    }\n",
              "\n",
              "    .dataframe thead th {\n",
              "        text-align: right;\n",
              "    }\n",
              "</style>\n",
              "<table border=\"1\" class=\"dataframe\">\n",
              "  <thead>\n",
              "    <tr style=\"text-align: right;\">\n",
              "      <th></th>\n",
              "      <th>fid</th>\n",
              "      <th>geometry</th>\n",
              "    </tr>\n",
              "  </thead>\n",
              "  <tbody>\n",
              "    <tr>\n",
              "      <th>0</th>\n",
              "      <td>1</td>\n",
              "      <td>POINT (-118.50059 34.16105)</td>\n",
              "    </tr>\n",
              "    <tr>\n",
              "      <th>1</th>\n",
              "      <td>2</td>\n",
              "      <td>POINT (-118.45144 34.24239)</td>\n",
              "    </tr>\n",
              "    <tr>\n",
              "      <th>2</th>\n",
              "      <td>3</td>\n",
              "      <td>POINT (-118.25685 34.01275)</td>\n",
              "    </tr>\n",
              "    <tr>\n",
              "      <th>3</th>\n",
              "      <td>4</td>\n",
              "      <td>POINT (-118.55892 34.2768)</td>\n",
              "    </tr>\n",
              "    <tr>\n",
              "      <th>4</th>\n",
              "      <td>5</td>\n",
              "      <td>POINT (-118.29344 33.75309)</td>\n",
              "    </tr>\n",
              "  </tbody>\n",
              "</table>\n",
              "</div>"
            ],
            "text/plain": [
              "   fid                     geometry\n",
              "0    1  POINT (-118.50059 34.16105)\n",
              "1    2  POINT (-118.45144 34.24239)\n",
              "2    3  POINT (-118.25685 34.01275)\n",
              "3    4   POINT (-118.55892 34.2768)\n",
              "4    5  POINT (-118.29344 33.75309)"
            ]
          },
          "execution_count": 63,
          "metadata": {},
          "output_type": "execute_result"
        }
      ],
      "source": [
        "# preview clean dataframe\n",
        "lafd_stations.head()"
      ]
    },
    {
      "cell_type": "code",
      "execution_count": 542,
      "metadata": {},
      "outputs": [],
      "source": [
        "# save dataset\n",
        "lafd_stations.to_file('Data/lafd_stations.geojson')"
      ]
    },
    {
      "cell_type": "markdown",
      "metadata": {
        "id": "ijpMGUY9HBw3"
      },
      "source": [
        "## Los Angeles Fire Department (LAFD) Station Boundaries"
      ]
    },
    {
      "cell_type": "code",
      "execution_count": 64,
      "metadata": {
        "id": "rWjH08S_HboZ"
      },
      "outputs": [],
      "source": [
        "# LAFD station boundaries\n",
        "url = 'https://services5.arcgis.com/7nsPwEMP38bSkCjy/arcgis/rest/services/LAFD_FirstIn_Districts/FeatureServer/0/query?outFields=*&where=1%3D1&f=geojson'\n",
        "data = requests.get(url)\n",
        "lafd_bounds = gpd.GeoDataFrame.from_features(data.json())"
      ]
    },
    {
      "cell_type": "code",
      "execution_count": 65,
      "metadata": {
        "id": "XjE31xyjHkjS"
      },
      "outputs": [],
      "source": [
        "lafd_bounds = lafd_bounds.set_crs('EPSG:4326')"
      ]
    },
    {
      "cell_type": "code",
      "execution_count": 66,
      "metadata": {
        "colab": {
          "base_uri": "https://localhost:8080/",
          "height": 206
        },
        "id": "_VZebfkxHhy-",
        "outputId": "13128524-99e8-478e-8a9b-dc31dcdd2aff"
      },
      "outputs": [
        {
          "data": {
            "text/html": [
              "<div>\n",
              "<style scoped>\n",
              "    .dataframe tbody tr th:only-of-type {\n",
              "        vertical-align: middle;\n",
              "    }\n",
              "\n",
              "    .dataframe tbody tr th {\n",
              "        vertical-align: top;\n",
              "    }\n",
              "\n",
              "    .dataframe thead th {\n",
              "        text-align: right;\n",
              "    }\n",
              "</style>\n",
              "<table border=\"1\" class=\"dataframe\">\n",
              "  <thead>\n",
              "    <tr style=\"text-align: right;\">\n",
              "      <th></th>\n",
              "      <th>geometry</th>\n",
              "      <th>FID</th>\n",
              "      <th>BATTALION_</th>\n",
              "      <th>DIVISION_N</th>\n",
              "      <th>FIRSTIN_DI</th>\n",
              "      <th>RFSNUM</th>\n",
              "      <th>AREA_SQMI</th>\n",
              "      <th>BUREAU</th>\n",
              "      <th>SHAPE_AREA</th>\n",
              "      <th>SHAPE_LEN</th>\n",
              "      <th>Shape__Area</th>\n",
              "      <th>Shape__Length</th>\n",
              "    </tr>\n",
              "  </thead>\n",
              "  <tbody>\n",
              "    <tr>\n",
              "      <th>0</th>\n",
              "      <td>POLYGON ((-118.41879 33.98934, -118.41565 33.9...</td>\n",
              "      <td>1</td>\n",
              "      <td>4</td>\n",
              "      <td>0</td>\n",
              "      <td>67</td>\n",
              "      <td>67</td>\n",
              "      <td>4.403340</td>\n",
              "      <td>WEST BUREAU</td>\n",
              "      <td>1.227569e+08</td>\n",
              "      <td>0</td>\n",
              "      <td>1.662358e+07</td>\n",
              "      <td>29504.527048</td>\n",
              "    </tr>\n",
              "    <tr>\n",
              "      <th>1</th>\n",
              "      <td>POLYGON ((-118.27011 33.99069, -118.26519 33.9...</td>\n",
              "      <td>2</td>\n",
              "      <td>13</td>\n",
              "      <td>0</td>\n",
              "      <td>33</td>\n",
              "      <td>33</td>\n",
              "      <td>3.293320</td>\n",
              "      <td>SOUTH BUREAU</td>\n",
              "      <td>9.141866e+07</td>\n",
              "      <td>0</td>\n",
              "      <td>1.238146e+07</td>\n",
              "      <td>16729.625795</td>\n",
              "    </tr>\n",
              "    <tr>\n",
              "      <th>2</th>\n",
              "      <td>MULTIPOLYGON (((-118.43221 34.02402, -118.4289...</td>\n",
              "      <td>3</td>\n",
              "      <td>4</td>\n",
              "      <td>0</td>\n",
              "      <td>62</td>\n",
              "      <td>62</td>\n",
              "      <td>4.073171</td>\n",
              "      <td>WEST BUREAU</td>\n",
              "      <td>1.133909e+08</td>\n",
              "      <td>0</td>\n",
              "      <td>1.536740e+07</td>\n",
              "      <td>31401.262229</td>\n",
              "    </tr>\n",
              "    <tr>\n",
              "      <th>3</th>\n",
              "      <td>POLYGON ((-118.24738 34.00565, -118.24738 34.0...</td>\n",
              "      <td>4</td>\n",
              "      <td>13</td>\n",
              "      <td>0</td>\n",
              "      <td>21</td>\n",
              "      <td>21</td>\n",
              "      <td>1.975591</td>\n",
              "      <td>SOUTH BUREAU</td>\n",
              "      <td>5.488737e+07</td>\n",
              "      <td>0</td>\n",
              "      <td>7.437202e+06</td>\n",
              "      <td>12915.021283</td>\n",
              "    </tr>\n",
              "    <tr>\n",
              "      <th>4</th>\n",
              "      <td>POLYGON ((-118.30891 34.00846, -118.30779 34.0...</td>\n",
              "      <td>5</td>\n",
              "      <td>13</td>\n",
              "      <td>0</td>\n",
              "      <td>66</td>\n",
              "      <td>66</td>\n",
              "      <td>5.321798</td>\n",
              "      <td>SOUTH BUREAU</td>\n",
              "      <td>1.485545e+08</td>\n",
              "      <td>0</td>\n",
              "      <td>2.012468e+07</td>\n",
              "      <td>27210.886991</td>\n",
              "    </tr>\n",
              "    <tr>\n",
              "      <th>...</th>\n",
              "      <td>...</td>\n",
              "      <td>...</td>\n",
              "      <td>...</td>\n",
              "      <td>...</td>\n",
              "      <td>...</td>\n",
              "      <td>...</td>\n",
              "      <td>...</td>\n",
              "      <td>...</td>\n",
              "      <td>...</td>\n",
              "      <td>...</td>\n",
              "      <td>...</td>\n",
              "      <td>...</td>\n",
              "    </tr>\n",
              "    <tr>\n",
              "      <th>101</th>\n",
              "      <td>POLYGON ((-118.27417 33.72917, -118.27272 33.7...</td>\n",
              "      <td>102</td>\n",
              "      <td>6</td>\n",
              "      <td>0</td>\n",
              "      <td>B5</td>\n",
              "      <td>110</td>\n",
              "      <td>2.542219</td>\n",
              "      <td>SOUTH BUREAU</td>\n",
              "      <td>7.087299e+07</td>\n",
              "      <td>0</td>\n",
              "      <td>9.539335e+06</td>\n",
              "      <td>28300.660953</td>\n",
              "    </tr>\n",
              "    <tr>\n",
              "      <th>102</th>\n",
              "      <td>POLYGON ((-118.29232 33.73968, -118.29233 33.7...</td>\n",
              "      <td>103</td>\n",
              "      <td>6</td>\n",
              "      <td>0</td>\n",
              "      <td>48</td>\n",
              "      <td>48</td>\n",
              "      <td>2.338242</td>\n",
              "      <td>SOUTH BUREAU</td>\n",
              "      <td>6.518645e+07</td>\n",
              "      <td>0</td>\n",
              "      <td>8.775597e+06</td>\n",
              "      <td>31100.961076</td>\n",
              "    </tr>\n",
              "    <tr>\n",
              "      <th>103</th>\n",
              "      <td>POLYGON ((-118.24697 33.74837, -118.2446 33.74...</td>\n",
              "      <td>104</td>\n",
              "      <td>6</td>\n",
              "      <td>0</td>\n",
              "      <td>B1</td>\n",
              "      <td>111</td>\n",
              "      <td>1.255516</td>\n",
              "      <td>SOUTH BUREAU</td>\n",
              "      <td>3.500177e+07</td>\n",
              "      <td>0</td>\n",
              "      <td>4.713128e+06</td>\n",
              "      <td>26304.945863</td>\n",
              "    </tr>\n",
              "    <tr>\n",
              "      <th>104</th>\n",
              "      <td>POLYGON ((-118.27417 33.72917, -118.27432 33.7...</td>\n",
              "      <td>105</td>\n",
              "      <td>6</td>\n",
              "      <td>0</td>\n",
              "      <td>112</td>\n",
              "      <td>112</td>\n",
              "      <td>0.961581</td>\n",
              "      <td>SOUTH BUREAU</td>\n",
              "      <td>2.680735e+07</td>\n",
              "      <td>0</td>\n",
              "      <td>3.610342e+06</td>\n",
              "      <td>16033.963616</td>\n",
              "    </tr>\n",
              "    <tr>\n",
              "      <th>105</th>\n",
              "      <td>POLYGON ((-118.23712 33.72768, -118.25115 33.7...</td>\n",
              "      <td>106</td>\n",
              "      <td>6</td>\n",
              "      <td>0</td>\n",
              "      <td>40</td>\n",
              "      <td>40</td>\n",
              "      <td>3.273741</td>\n",
              "      <td>SOUTH BUREAU</td>\n",
              "      <td>9.126667e+07</td>\n",
              "      <td>0</td>\n",
              "      <td>1.229136e+07</td>\n",
              "      <td>37921.003227</td>\n",
              "    </tr>\n",
              "  </tbody>\n",
              "</table>\n",
              "<p>106 rows × 12 columns</p>\n",
              "</div>"
            ],
            "text/plain": [
              "                                              geometry  FID  BATTALION_  \\\n",
              "0    POLYGON ((-118.41879 33.98934, -118.41565 33.9...    1           4   \n",
              "1    POLYGON ((-118.27011 33.99069, -118.26519 33.9...    2          13   \n",
              "2    MULTIPOLYGON (((-118.43221 34.02402, -118.4289...    3           4   \n",
              "3    POLYGON ((-118.24738 34.00565, -118.24738 34.0...    4          13   \n",
              "4    POLYGON ((-118.30891 34.00846, -118.30779 34.0...    5          13   \n",
              "..                                                 ...  ...         ...   \n",
              "101  POLYGON ((-118.27417 33.72917, -118.27272 33.7...  102           6   \n",
              "102  POLYGON ((-118.29232 33.73968, -118.29233 33.7...  103           6   \n",
              "103  POLYGON ((-118.24697 33.74837, -118.2446 33.74...  104           6   \n",
              "104  POLYGON ((-118.27417 33.72917, -118.27432 33.7...  105           6   \n",
              "105  POLYGON ((-118.23712 33.72768, -118.25115 33.7...  106           6   \n",
              "\n",
              "     DIVISION_N FIRSTIN_DI  RFSNUM  AREA_SQMI        BUREAU    SHAPE_AREA  \\\n",
              "0             0         67      67   4.403340   WEST BUREAU  1.227569e+08   \n",
              "1             0         33      33   3.293320  SOUTH BUREAU  9.141866e+07   \n",
              "2             0         62      62   4.073171   WEST BUREAU  1.133909e+08   \n",
              "3             0         21      21   1.975591  SOUTH BUREAU  5.488737e+07   \n",
              "4             0         66      66   5.321798  SOUTH BUREAU  1.485545e+08   \n",
              "..          ...        ...     ...        ...           ...           ...   \n",
              "101           0         B5     110   2.542219  SOUTH BUREAU  7.087299e+07   \n",
              "102           0         48      48   2.338242  SOUTH BUREAU  6.518645e+07   \n",
              "103           0         B1     111   1.255516  SOUTH BUREAU  3.500177e+07   \n",
              "104           0        112     112   0.961581  SOUTH BUREAU  2.680735e+07   \n",
              "105           0         40      40   3.273741  SOUTH BUREAU  9.126667e+07   \n",
              "\n",
              "     SHAPE_LEN   Shape__Area  Shape__Length  \n",
              "0            0  1.662358e+07   29504.527048  \n",
              "1            0  1.238146e+07   16729.625795  \n",
              "2            0  1.536740e+07   31401.262229  \n",
              "3            0  7.437202e+06   12915.021283  \n",
              "4            0  2.012468e+07   27210.886991  \n",
              "..         ...           ...            ...  \n",
              "101          0  9.539335e+06   28300.660953  \n",
              "102          0  8.775597e+06   31100.961076  \n",
              "103          0  4.713128e+06   26304.945863  \n",
              "104          0  3.610342e+06   16033.963616  \n",
              "105          0  1.229136e+07   37921.003227  \n",
              "\n",
              "[106 rows x 12 columns]"
            ]
          },
          "execution_count": 66,
          "metadata": {},
          "output_type": "execute_result"
        }
      ],
      "source": [
        "# preview data\n",
        "lafd_bounds"
      ]
    },
    {
      "cell_type": "code",
      "execution_count": 67,
      "metadata": {
        "id": "3P4-JI-yHvo-"
      },
      "outputs": [],
      "source": [
        "# drop unnecessary columns\n",
        "lafd_bounds = lafd_bounds[['RFSNUM', 'geometry']]"
      ]
    },
    {
      "cell_type": "code",
      "execution_count": 68,
      "metadata": {
        "id": "mmEoO4avKOPy"
      },
      "outputs": [],
      "source": [
        "# rename some columns\n",
        "lafd_bounds = lafd_bounds.rename(columns = {'RFSNUM': 'stanum'})"
      ]
    },
    {
      "cell_type": "code",
      "execution_count": 69,
      "metadata": {
        "colab": {
          "base_uri": "https://localhost:8080/",
          "height": 206
        },
        "id": "42SSn-0LKS8p",
        "outputId": "9b3d9cbd-982d-495e-b9b6-07fbe1d8a2a2"
      },
      "outputs": [
        {
          "data": {
            "text/html": [
              "<div>\n",
              "<style scoped>\n",
              "    .dataframe tbody tr th:only-of-type {\n",
              "        vertical-align: middle;\n",
              "    }\n",
              "\n",
              "    .dataframe tbody tr th {\n",
              "        vertical-align: top;\n",
              "    }\n",
              "\n",
              "    .dataframe thead th {\n",
              "        text-align: right;\n",
              "    }\n",
              "</style>\n",
              "<table border=\"1\" class=\"dataframe\">\n",
              "  <thead>\n",
              "    <tr style=\"text-align: right;\">\n",
              "      <th></th>\n",
              "      <th>stanum</th>\n",
              "      <th>geometry</th>\n",
              "    </tr>\n",
              "  </thead>\n",
              "  <tbody>\n",
              "    <tr>\n",
              "      <th>0</th>\n",
              "      <td>67</td>\n",
              "      <td>POLYGON ((-118.41879 33.98934, -118.41565 33.9...</td>\n",
              "    </tr>\n",
              "    <tr>\n",
              "      <th>1</th>\n",
              "      <td>33</td>\n",
              "      <td>POLYGON ((-118.27011 33.99069, -118.26519 33.9...</td>\n",
              "    </tr>\n",
              "    <tr>\n",
              "      <th>2</th>\n",
              "      <td>62</td>\n",
              "      <td>MULTIPOLYGON (((-118.43221 34.02402, -118.4289...</td>\n",
              "    </tr>\n",
              "    <tr>\n",
              "      <th>3</th>\n",
              "      <td>21</td>\n",
              "      <td>POLYGON ((-118.24738 34.00565, -118.24738 34.0...</td>\n",
              "    </tr>\n",
              "    <tr>\n",
              "      <th>4</th>\n",
              "      <td>66</td>\n",
              "      <td>POLYGON ((-118.30891 34.00846, -118.30779 34.0...</td>\n",
              "    </tr>\n",
              "  </tbody>\n",
              "</table>\n",
              "</div>"
            ],
            "text/plain": [
              "   stanum                                           geometry\n",
              "0      67  POLYGON ((-118.41879 33.98934, -118.41565 33.9...\n",
              "1      33  POLYGON ((-118.27011 33.99069, -118.26519 33.9...\n",
              "2      62  MULTIPOLYGON (((-118.43221 34.02402, -118.4289...\n",
              "3      21  POLYGON ((-118.24738 34.00565, -118.24738 34.0...\n",
              "4      66  POLYGON ((-118.30891 34.00846, -118.30779 34.0..."
            ]
          },
          "execution_count": 69,
          "metadata": {},
          "output_type": "execute_result"
        }
      ],
      "source": [
        "# preview cleaned data\n",
        "lafd_bounds.head()"
      ]
    },
    {
      "cell_type": "code",
      "execution_count": 549,
      "metadata": {
        "id": "wbUzQh4ELIos"
      },
      "outputs": [],
      "source": [
        "# save dataset\n",
        "lafd_bounds.to_file('Data/lafd_station_boundaries.geojson')"
      ]
    },
    {
      "cell_type": "markdown",
      "metadata": {
        "id": "HQGYt6U1_SbN"
      },
      "source": [
        "## All Fire stations Serving LA County"
      ]
    },
    {
      "cell_type": "code",
      "execution_count": 70,
      "metadata": {
        "id": "CYOEG81j_VlL"
      },
      "outputs": [
        {
          "data": {
            "text/plain": [
              "(628, 18)"
            ]
          },
          "execution_count": 70,
          "metadata": {},
          "output_type": "execute_result"
        }
      ],
      "source": [
        "# LA County Points of Interests\n",
        "url = 'https://services.arcgis.com/RmCCgQtiZLDCtblq/arcgis/rest/services/Points_of_Interest/FeatureServer/5/query?outFields=*&where=1%3D1&f=geojson'\n",
        "data = requests.get(url)\n",
        "poi = gpd.GeoDataFrame.from_features(data.json())\n",
        "\n",
        "poi.shape"
      ]
    },
    {
      "cell_type": "code",
      "execution_count": null,
      "metadata": {},
      "outputs": [],
      "source": [
        "# Dataframe of all fire stations in LA County only\n",
        "all_stations = poi[poi['cat2'] == 'Fire Stations']"
      ]
    },
    {
      "cell_type": "code",
      "execution_count": 551,
      "metadata": {
        "colab": {
          "base_uri": "https://localhost:8080/",
          "height": 380
        },
        "id": "QY-d-c3j_eMP",
        "outputId": "e67aafe0-9014-45ce-a9e1-eadb112e057f"
      },
      "outputs": [
        {
          "data": {
            "text/html": [
              "<div>\n",
              "<style scoped>\n",
              "    .dataframe tbody tr th:only-of-type {\n",
              "        vertical-align: middle;\n",
              "    }\n",
              "\n",
              "    .dataframe tbody tr th {\n",
              "        vertical-align: top;\n",
              "    }\n",
              "\n",
              "    .dataframe thead th {\n",
              "        text-align: right;\n",
              "    }\n",
              "</style>\n",
              "<table border=\"1\" class=\"dataframe\">\n",
              "  <thead>\n",
              "    <tr style=\"text-align: right;\">\n",
              "      <th></th>\n",
              "      <th>geometry</th>\n",
              "      <th>OBJECTID</th>\n",
              "      <th>name</th>\n",
              "      <th>label</th>\n",
              "      <th>cat2</th>\n",
              "      <th>cat1</th>\n",
              "      <th>cat3</th>\n",
              "      <th>organization</th>\n",
              "      <th>addrln1</th>\n",
              "      <th>addrln2</th>\n",
              "      <th>city</th>\n",
              "      <th>state</th>\n",
              "      <th>zip</th>\n",
              "      <th>source</th>\n",
              "      <th>source_id</th>\n",
              "      <th>source_date</th>\n",
              "      <th>display</th>\n",
              "      <th>last_update</th>\n",
              "    </tr>\n",
              "  </thead>\n",
              "  <tbody>\n",
              "    <tr>\n",
              "      <th>0</th>\n",
              "      <td>POINT (-118.32898 33.33947)</td>\n",
              "      <td>8663</td>\n",
              "      <td>Avalon Fire Department</td>\n",
              "      <td>Avalon Fire Department</td>\n",
              "      <td>Fire Stations</td>\n",
              "      <td>Public Safety</td>\n",
              "      <td>None</td>\n",
              "      <td>HIFLD</td>\n",
              "      <td>420 Avalon Canyon Road</td>\n",
              "      <td>None</td>\n",
              "      <td>Avalon</td>\n",
              "      <td>CA</td>\n",
              "      <td>90704</td>\n",
              "      <td>U.S. Geological Survey</td>\n",
              "      <td>b414f166-6883-4537-aeae-3152b990fc09</td>\n",
              "      <td>2018-07-19 20:17:43</td>\n",
              "      <td>Y</td>\n",
              "      <td>None</td>\n",
              "    </tr>\n",
              "    <tr>\n",
              "      <th>1</th>\n",
              "      <td>POINT (-118.50039 33.44118)</td>\n",
              "      <td>8664</td>\n",
              "      <td>Los Angeles County Fire Department Station 155</td>\n",
              "      <td>Los Angeles County Fire Department Station 155</td>\n",
              "      <td>Fire Stations</td>\n",
              "      <td>Public Safety</td>\n",
              "      <td>None</td>\n",
              "      <td>HIFLD</td>\n",
              "      <td>1 Banning House Road</td>\n",
              "      <td>None</td>\n",
              "      <td>Two Harbors</td>\n",
              "      <td>CA</td>\n",
              "      <td>90704</td>\n",
              "      <td>U.S. Geological Survey</td>\n",
              "      <td>{00839135-9AEA-4215-A974-79A27E1DDE89}</td>\n",
              "      <td>2017-07-11 19:53:07</td>\n",
              "      <td>Y</td>\n",
              "      <td>None</td>\n",
              "    </tr>\n",
              "    <tr>\n",
              "      <th>2</th>\n",
              "      <td>POINT (-118.33544 33.33308)</td>\n",
              "      <td>8665</td>\n",
              "      <td>Los Angeles County Fire Department Station 55</td>\n",
              "      <td>Los Angeles County Fire Department Station 55</td>\n",
              "      <td>Fire Stations</td>\n",
              "      <td>Public Safety</td>\n",
              "      <td>None</td>\n",
              "      <td>HIFLD</td>\n",
              "      <td>945 Avalon Canyon Road</td>\n",
              "      <td>None</td>\n",
              "      <td>Avalon</td>\n",
              "      <td>CA</td>\n",
              "      <td>90704</td>\n",
              "      <td>U.S. Geological Survey</td>\n",
              "      <td>{874A7F0C-158D-4456-86A4-B18EB9038C27}</td>\n",
              "      <td>2017-07-05 21:27:31</td>\n",
              "      <td>Y</td>\n",
              "      <td>None</td>\n",
              "    </tr>\n",
              "    <tr>\n",
              "      <th>3</th>\n",
              "      <td>POINT (-118.26386 34.10765)</td>\n",
              "      <td>8666</td>\n",
              "      <td>City of Los Angeles Fire Department Station 56</td>\n",
              "      <td>City of Los Angeles Fire Department Station 56</td>\n",
              "      <td>Fire Stations</td>\n",
              "      <td>Public Safety</td>\n",
              "      <td>None</td>\n",
              "      <td>HIFLD</td>\n",
              "      <td>2759 Rowena Avenue</td>\n",
              "      <td>None</td>\n",
              "      <td>Los Angeles</td>\n",
              "      <td>CA</td>\n",
              "      <td>90039</td>\n",
              "      <td>U.S. Geological Survey</td>\n",
              "      <td>411fe03d-aa99-48ee-bb06-3e0f4619eb8c</td>\n",
              "      <td>2016-08-12 13:19:58</td>\n",
              "      <td>Y</td>\n",
              "      <td>None</td>\n",
              "    </tr>\n",
              "    <tr>\n",
              "      <th>4</th>\n",
              "      <td>POINT (-117.75956 34.06769)</td>\n",
              "      <td>8667</td>\n",
              "      <td>Los Angeles County Fire Department Station 182</td>\n",
              "      <td>Los Angeles County Fire Department Station 182</td>\n",
              "      <td>Fire Stations</td>\n",
              "      <td>Public Safety</td>\n",
              "      <td>None</td>\n",
              "      <td>HIFLD</td>\n",
              "      <td>1059 North White Avenue</td>\n",
              "      <td>None</td>\n",
              "      <td>Pomona</td>\n",
              "      <td>CA</td>\n",
              "      <td>91768</td>\n",
              "      <td>U.S. Geological Survey</td>\n",
              "      <td>{9BEFFFCD-3F8B-4325-8959-B9D310E2EB79}</td>\n",
              "      <td>2011-03-03 18:02:46</td>\n",
              "      <td>Y</td>\n",
              "      <td>None</td>\n",
              "    </tr>\n",
              "  </tbody>\n",
              "</table>\n",
              "</div>"
            ],
            "text/plain": [
              "                      geometry  OBJECTID  \\\n",
              "0  POINT (-118.32898 33.33947)      8663   \n",
              "1  POINT (-118.50039 33.44118)      8664   \n",
              "2  POINT (-118.33544 33.33308)      8665   \n",
              "3  POINT (-118.26386 34.10765)      8666   \n",
              "4  POINT (-117.75956 34.06769)      8667   \n",
              "\n",
              "                                             name  \\\n",
              "0                          Avalon Fire Department   \n",
              "1  Los Angeles County Fire Department Station 155   \n",
              "2   Los Angeles County Fire Department Station 55   \n",
              "3  City of Los Angeles Fire Department Station 56   \n",
              "4  Los Angeles County Fire Department Station 182   \n",
              "\n",
              "                                            label           cat2  \\\n",
              "0                          Avalon Fire Department  Fire Stations   \n",
              "1  Los Angeles County Fire Department Station 155  Fire Stations   \n",
              "2   Los Angeles County Fire Department Station 55  Fire Stations   \n",
              "3  City of Los Angeles Fire Department Station 56  Fire Stations   \n",
              "4  Los Angeles County Fire Department Station 182  Fire Stations   \n",
              "\n",
              "            cat1  cat3 organization                  addrln1 addrln2  \\\n",
              "0  Public Safety  None        HIFLD   420 Avalon Canyon Road    None   \n",
              "1  Public Safety  None        HIFLD     1 Banning House Road    None   \n",
              "2  Public Safety  None        HIFLD   945 Avalon Canyon Road    None   \n",
              "3  Public Safety  None        HIFLD       2759 Rowena Avenue    None   \n",
              "4  Public Safety  None        HIFLD  1059 North White Avenue    None   \n",
              "\n",
              "          city state    zip                  source  \\\n",
              "0       Avalon    CA  90704  U.S. Geological Survey   \n",
              "1  Two Harbors    CA  90704  U.S. Geological Survey   \n",
              "2       Avalon    CA  90704  U.S. Geological Survey   \n",
              "3  Los Angeles    CA  90039  U.S. Geological Survey   \n",
              "4       Pomona    CA  91768  U.S. Geological Survey   \n",
              "\n",
              "                                source_id          source_date display  \\\n",
              "0    b414f166-6883-4537-aeae-3152b990fc09  2018-07-19 20:17:43       Y   \n",
              "1  {00839135-9AEA-4215-A974-79A27E1DDE89}  2017-07-11 19:53:07       Y   \n",
              "2  {874A7F0C-158D-4456-86A4-B18EB9038C27}  2017-07-05 21:27:31       Y   \n",
              "3    411fe03d-aa99-48ee-bb06-3e0f4619eb8c  2016-08-12 13:19:58       Y   \n",
              "4  {9BEFFFCD-3F8B-4325-8959-B9D310E2EB79}  2011-03-03 18:02:46       Y   \n",
              "\n",
              "  last_update  \n",
              "0        None  \n",
              "1        None  \n",
              "2        None  \n",
              "3        None  \n",
              "4        None  "
            ]
          },
          "execution_count": 551,
          "metadata": {},
          "output_type": "execute_result"
        }
      ],
      "source": [
        "# preview data\n",
        "all_stations.head()"
      ]
    },
    {
      "cell_type": "code",
      "execution_count": 552,
      "metadata": {
        "id": "KHI28YOmBA10"
      },
      "outputs": [],
      "source": [
        "# drop unnecessary columns\n",
        "all_stations = all_stations.drop(columns = [\n",
        "    'OBJECTID',\n",
        "    'name',\n",
        "    'cat1',\n",
        "    'cat2',\n",
        "    'cat3',\n",
        "    'organization',\n",
        "    'addrln2',\n",
        "    'state',\n",
        "    'source',\n",
        "    'source_id',\n",
        "    'source_date',\n",
        "    'display',\n",
        "    'last_update'\n",
        "])"
      ]
    },
    {
      "cell_type": "code",
      "execution_count": 553,
      "metadata": {
        "id": "ZLJPdEdaBvFQ"
      },
      "outputs": [],
      "source": [
        "# rename columns\n",
        "all_stations = all_stations.rename(columns = {\n",
        "    'addrln1': 'address'\n",
        "})"
      ]
    },
    {
      "cell_type": "code",
      "execution_count": 554,
      "metadata": {
        "id": "nUq7ezMjC0vi"
      },
      "outputs": [],
      "source": [
        "# extract department name\n",
        "all_stations['department'] = all_stations['label'].str.extract(r'^(.*Department)', expand=False)"
      ]
    },
    {
      "cell_type": "code",
      "execution_count": 555,
      "metadata": {
        "id": "WWjgLs5mECZ0"
      },
      "outputs": [],
      "source": [
        "# extract station number (if there is one)\n",
        "all_stations['stanum'] = all_stations['label'].str.extract(r'Station\\s+(\\d+)', expand = False)"
      ]
    },
    {
      "cell_type": "code",
      "execution_count": 556,
      "metadata": {
        "id": "u38-vxAeMCfB"
      },
      "outputs": [],
      "source": [
        "# trim department names\n",
        "all_stations['department'] = all_stations['department'].str.replace(r'(?i)^city of\\s*', '', regex = True)"
      ]
    },
    {
      "cell_type": "code",
      "execution_count": 557,
      "metadata": {
        "id": "t_dgmoKeEd0R"
      },
      "outputs": [],
      "source": [
        "# use abbreviation 'LACoFD' instead of full name\n",
        "all_stations['department'] = all_stations['department'].str.replace('Los Angeles County Fire Department', 'LACoFD')\n",
        "\n",
        "# use abbreviation 'LAFD' instead of full name\n",
        "all_stations['department'] = all_stations['department'].str.replace('Los Angeles Fire Department', 'LAFD')"
      ]
    },
    {
      "cell_type": "code",
      "execution_count": 558,
      "metadata": {
        "id": "S0PDKLNjIESW"
      },
      "outputs": [],
      "source": [
        "# fix pesky observations\n",
        "all_stations.loc[14, 'department'] = 'Glendora Fire Department'\n",
        "all_stations.loc[353, 'department'] = 'Torrence Refinery Fire Department'\n",
        "all_stations.loc[all_stations['label'].str.contains('United States Forest Service', case = False), 'department'] = 'United States Forest Service Angeles National Forest'"
      ]
    },
    {
      "cell_type": "code",
      "execution_count": 559,
      "metadata": {
        "id": "AxR6Zf-lGRr2"
      },
      "outputs": [],
      "source": [
        "# drop 'label'\n",
        "all_stations = all_stations.drop(columns = ['label'])"
      ]
    },
    {
      "cell_type": "code",
      "execution_count": 560,
      "metadata": {
        "id": "vXXgx_5WGmyJ"
      },
      "outputs": [],
      "source": [
        "# set crs\n",
        "all_stations = all_stations.set_crs('EPSG:4326')"
      ]
    },
    {
      "cell_type": "code",
      "execution_count": 561,
      "metadata": {
        "colab": {
          "base_uri": "https://localhost:8080/"
        },
        "id": "U_UjSMK0LOpk",
        "outputId": "c2709f50-a0fa-47d8-a8d5-38e425eabad5"
      },
      "outputs": [
        {
          "data": {
            "text/plain": [
              "array(['Avalon Fire Department', 'LACoFD', 'LAFD',\n",
              "       'Pasadena Fire Department', 'Long Beach Fire Department',\n",
              "       'Hermosa Beach Fire Department', 'Glendora Fire Department',\n",
              "       'United States Forest Service Angeles National Forest',\n",
              "       'Vernon Fire Department', 'Alhambra Fire Department',\n",
              "       'Santa Monica Fire Department', 'Beverly Hills Fire Department',\n",
              "       'La Habra Heights Fire Department', 'Burbank Fire Department',\n",
              "       'Arcadia Fire Department',\n",
              "       'NASA Jet Propulsion Lab Fire Department',\n",
              "       'Bob Hope Airport Fire Department', 'Monrovia Fire Department',\n",
              "       'Santa Fe Springs Fire Department', 'Boeing Fire Department',\n",
              "       'Glendale Fire Department', 'San Gabriel Fire Department',\n",
              "       'West Covina Fire Department', 'Downey Fire Department',\n",
              "       'Monterey Park Fire Department', 'EL Segundo Fire Department',\n",
              "       'La Verne Fire Department', 'Culver City Fire Department',\n",
              "       'Walt Disney Studios Fire Department',\n",
              "       'Manhattan Beach Fire Department', 'Fox Studios Fire Department',\n",
              "       'South Pasadena Fire Department', 'Paramount Fire Department',\n",
              "       'Torrance Fire Department',\n",
              "       'Warner Brothers Studios Fire Department',\n",
              "       'Montebello Fire Department', 'San Marino Fire Department',\n",
              "       'Redondo Beach Fire Department', 'El Segundo Fire Department',\n",
              "       'California State Prison - LACoFD', 'Compton Fire Department',\n",
              "       'Northrop Grumman Corporation Fire Department',\n",
              "       'Chevron Fire Department', 'Torrence Refinery Fire Department',\n",
              "       'United States Air Force Plant 42 Fire Department',\n",
              "       'Sierra Madre Fire Department'], dtype=object)"
            ]
          },
          "execution_count": 561,
          "metadata": {},
          "output_type": "execute_result"
        }
      ],
      "source": [
        "# unique department values\n",
        "all_stations['department'].unique()"
      ]
    },
    {
      "cell_type": "code",
      "execution_count": 562,
      "metadata": {},
      "outputs": [],
      "source": [
        "# drop closed fire station & LACoFD HQ \n",
        "all_stations = all_stations.drop(index = [11, 384])"
      ]
    },
    {
      "cell_type": "code",
      "execution_count": 563,
      "metadata": {},
      "outputs": [
        {
          "data": {
            "text/plain": [
              "department\n",
              "LACoFD                                                  161\n",
              "LAFD                                                    106\n",
              "Long Beach Fire Department                               24\n",
              "Glendale Fire Department                                  9\n",
              "Pasadena Fire Department                                  8\n",
              "Burbank Fire Department                                   6\n",
              "Torrance Fire Department                                  6\n",
              "West Covina Fire Department                               5\n",
              "United States Forest Service Angeles National Forest      5\n",
              "Santa Monica Fire Department                              4\n",
              "Downey Fire Department                                    4\n",
              "Vernon Fire Department                                    4\n",
              "Alhambra Fire Department                                  4\n",
              "Compton Fire Department                                   4\n",
              "Santa Fe Springs Fire Department                          4\n",
              "Arcadia Fire Department                                   3\n",
              "Culver City Fire Department                               3\n",
              "Monterey Park Fire Department                             3\n",
              "Beverly Hills Fire Department                             3\n",
              "Montebello Fire Department                                3\n",
              "Manhattan Beach Fire Department                           2\n",
              "La Habra Heights Fire Department                          2\n",
              "Redondo Beach Fire Department                             2\n",
              "La Verne Fire Department                                  2\n",
              "San Gabriel Fire Department                               2\n",
              "United States Air Force Plant 42 Fire Department          2\n",
              "Monrovia Fire Department                                  2\n",
              "Glendora Fire Department                                  1\n",
              "Avalon Fire Department                                    1\n",
              "Hermosa Beach Fire Department                             1\n",
              "Walt Disney Studios Fire Department                       1\n",
              "EL Segundo Fire Department                                1\n",
              "Bob Hope Airport Fire Department                          1\n",
              "Boeing Fire Department                                    1\n",
              "NASA Jet Propulsion Lab Fire Department                   1\n",
              "South Pasadena Fire Department                            1\n",
              "Paramount Fire Department                                 1\n",
              "Fox Studios Fire Department                               1\n",
              "San Marino Fire Department                                1\n",
              "Warner Brothers Studios Fire Department                   1\n",
              "California State Prison - LACoFD                          1\n",
              "El Segundo Fire Department                                1\n",
              "Northrop Grumman Corporation Fire Department              1\n",
              "Chevron Fire Department                                   1\n",
              "Torrence Refinery Fire Department                         1\n",
              "Sierra Madre Fire Department                              1\n",
              "Name: count, dtype: int64"
            ]
          },
          "execution_count": 563,
          "metadata": {},
          "output_type": "execute_result"
        }
      ],
      "source": [
        "# stations per department\n",
        "all_stations['department'].value_counts()"
      ]
    },
    {
      "cell_type": "code",
      "execution_count": 564,
      "metadata": {},
      "outputs": [],
      "source": [
        "# all stations in LA county which are a part of LACoFD\n",
        "lacofd = all_stations[all_stations['department'] == 'LACoFD']\n",
        "\n",
        "# list of indices of all stations in LA county which are a part of LACoFD\n",
        "lacofd_indices = lacofd.index.to_list()\n",
        "\n",
        "# drop above observations from all_stations data\n",
        "all_stations = all_stations.drop(lacofd_indices)\n",
        "\n",
        "# convert 'stanum' in stations data to string\n",
        "stations['stanum'] = stations['stanum'].astype('string')\n",
        "\n",
        "# merge with LACoFD station data to account for stations serving LA county but not actually in LA county\n",
        "merged_stations = stations.merge(right = lacofd, how = 'outer', on = 'stanum')\n",
        "\n",
        "# drop unnecessary columns\n",
        "merged_stations = merged_stations.drop(columns = [\n",
        "    'div', 'region', 'zipcode', 'geometry_y', 'address_y', 'city_y',\n",
        "])\n",
        "\n",
        "# rename columns\n",
        "merged_stations = merged_stations.rename(columns = {\n",
        "    'geometry_x': 'geometry',\n",
        "    'address_x': 'address',\n",
        "    'city_x': 'city'\n",
        "})"
      ]
    },
    {
      "cell_type": "code",
      "execution_count": 565,
      "metadata": {},
      "outputs": [],
      "source": [
        "# set all department values to 'LACoFD'\n",
        "merged_stations = merged_stations.assign(department = 'LACoFD')"
      ]
    },
    {
      "cell_type": "code",
      "execution_count": 566,
      "metadata": {},
      "outputs": [],
      "source": [
        "# replace previously dropped columns\n",
        "all_stations = pd.concat([all_stations, merged_stations])"
      ]
    },
    {
      "cell_type": "code",
      "execution_count": 567,
      "metadata": {},
      "outputs": [],
      "source": [
        "ll_stations = all_stations.reset_index(drop = True)"
      ]
    },
    {
      "cell_type": "code",
      "execution_count": 568,
      "metadata": {},
      "outputs": [
        {
          "data": {
            "text/plain": [
              "department\n",
              "LACoFD                                                  174\n",
              "LAFD                                                    106\n",
              "Long Beach Fire Department                               24\n",
              "Glendale Fire Department                                  9\n",
              "Pasadena Fire Department                                  8\n",
              "Burbank Fire Department                                   6\n",
              "Torrance Fire Department                                  6\n",
              "West Covina Fire Department                               5\n",
              "United States Forest Service Angeles National Forest      5\n",
              "Santa Fe Springs Fire Department                          4\n",
              "Santa Monica Fire Department                              4\n",
              "Vernon Fire Department                                    4\n",
              "Compton Fire Department                                   4\n",
              "Alhambra Fire Department                                  4\n",
              "Downey Fire Department                                    4\n",
              "Culver City Fire Department                               3\n",
              "Montebello Fire Department                                3\n",
              "Monterey Park Fire Department                             3\n",
              "Beverly Hills Fire Department                             3\n",
              "Arcadia Fire Department                                   3\n",
              "United States Air Force Plant 42 Fire Department          2\n",
              "La Habra Heights Fire Department                          2\n",
              "Manhattan Beach Fire Department                           2\n",
              "La Verne Fire Department                                  2\n",
              "San Gabriel Fire Department                               2\n",
              "Redondo Beach Fire Department                             2\n",
              "Monrovia Fire Department                                  2\n",
              "Hermosa Beach Fire Department                             1\n",
              "Glendora Fire Department                                  1\n",
              "Avalon Fire Department                                    1\n",
              "Fox Studios Fire Department                               1\n",
              "Walt Disney Studios Fire Department                       1\n",
              "EL Segundo Fire Department                                1\n",
              "Boeing Fire Department                                    1\n",
              "NASA Jet Propulsion Lab Fire Department                   1\n",
              "Bob Hope Airport Fire Department                          1\n",
              "Warner Brothers Studios Fire Department                   1\n",
              "South Pasadena Fire Department                            1\n",
              "El Segundo Fire Department                                1\n",
              "San Marino Fire Department                                1\n",
              "Paramount Fire Department                                 1\n",
              "California State Prison - LACoFD                          1\n",
              "Chevron Fire Department                                   1\n",
              "Northrop Grumman Corporation Fire Department              1\n",
              "Torrence Refinery Fire Department                         1\n",
              "Sierra Madre Fire Department                              1\n",
              "Name: count, dtype: int64"
            ]
          },
          "execution_count": 568,
          "metadata": {},
          "output_type": "execute_result"
        }
      ],
      "source": [
        "# number of stations per department\n",
        "all_stations['department'].value_counts()"
      ]
    },
    {
      "cell_type": "code",
      "execution_count": 569,
      "metadata": {
        "colab": {
          "base_uri": "https://localhost:8080/",
          "height": 206
        },
        "id": "OOzIQROaB4Zc",
        "outputId": "703dc8c1-887c-4c63-faa8-ef9516b1975f"
      },
      "outputs": [
        {
          "data": {
            "text/html": [
              "<div>\n",
              "<style scoped>\n",
              "    .dataframe tbody tr th:only-of-type {\n",
              "        vertical-align: middle;\n",
              "    }\n",
              "\n",
              "    .dataframe tbody tr th {\n",
              "        vertical-align: top;\n",
              "    }\n",
              "\n",
              "    .dataframe thead th {\n",
              "        text-align: right;\n",
              "    }\n",
              "</style>\n",
              "<table border=\"1\" class=\"dataframe\">\n",
              "  <thead>\n",
              "    <tr style=\"text-align: right;\">\n",
              "      <th></th>\n",
              "      <th>geometry</th>\n",
              "      <th>address</th>\n",
              "      <th>city</th>\n",
              "      <th>zip</th>\n",
              "      <th>department</th>\n",
              "      <th>stanum</th>\n",
              "    </tr>\n",
              "  </thead>\n",
              "  <tbody>\n",
              "    <tr>\n",
              "      <th>0</th>\n",
              "      <td>POINT (-118.32898 33.33947)</td>\n",
              "      <td>420 Avalon Canyon Road</td>\n",
              "      <td>Avalon</td>\n",
              "      <td>90704</td>\n",
              "      <td>Avalon Fire Department</td>\n",
              "      <td>NaN</td>\n",
              "    </tr>\n",
              "    <tr>\n",
              "      <th>3</th>\n",
              "      <td>POINT (-118.26386 34.10765)</td>\n",
              "      <td>2759 Rowena Avenue</td>\n",
              "      <td>Los Angeles</td>\n",
              "      <td>90039</td>\n",
              "      <td>LAFD</td>\n",
              "      <td>56</td>\n",
              "    </tr>\n",
              "    <tr>\n",
              "      <th>6</th>\n",
              "      <td>POINT (-118.15073 34.14318)</td>\n",
              "      <td>135 South Fair Oaks Avenue</td>\n",
              "      <td>Pasadena</td>\n",
              "      <td>91105</td>\n",
              "      <td>Pasadena Fire Department</td>\n",
              "      <td>31</td>\n",
              "    </tr>\n",
              "    <tr>\n",
              "      <th>7</th>\n",
              "      <td>POINT (-118.10821 33.81822)</td>\n",
              "      <td>3361 Palo Verde Avenue</td>\n",
              "      <td>Long Beach</td>\n",
              "      <td>90808</td>\n",
              "      <td>Long Beach Fire Department</td>\n",
              "      <td>18</td>\n",
              "    </tr>\n",
              "    <tr>\n",
              "      <th>8</th>\n",
              "      <td>POINT (-118.39593 33.86418)</td>\n",
              "      <td>540 Pier Avenue</td>\n",
              "      <td>Hermosa Beach</td>\n",
              "      <td>90254</td>\n",
              "      <td>Hermosa Beach Fire Department</td>\n",
              "      <td>NaN</td>\n",
              "    </tr>\n",
              "  </tbody>\n",
              "</table>\n",
              "</div>"
            ],
            "text/plain": [
              "                      geometry                     address           city  \\\n",
              "0  POINT (-118.32898 33.33947)      420 Avalon Canyon Road         Avalon   \n",
              "3  POINT (-118.26386 34.10765)          2759 Rowena Avenue    Los Angeles   \n",
              "6  POINT (-118.15073 34.14318)  135 South Fair Oaks Avenue       Pasadena   \n",
              "7  POINT (-118.10821 33.81822)      3361 Palo Verde Avenue     Long Beach   \n",
              "8  POINT (-118.39593 33.86418)             540 Pier Avenue  Hermosa Beach   \n",
              "\n",
              "     zip                     department stanum  \n",
              "0  90704         Avalon Fire Department    NaN  \n",
              "3  90039                           LAFD     56  \n",
              "6  91105       Pasadena Fire Department     31  \n",
              "7  90808     Long Beach Fire Department     18  \n",
              "8  90254  Hermosa Beach Fire Department    NaN  "
            ]
          },
          "execution_count": 569,
          "metadata": {},
          "output_type": "execute_result"
        }
      ],
      "source": [
        "# preview cleaned data\n",
        "all_stations.head()"
      ]
    },
    {
      "cell_type": "code",
      "execution_count": 570,
      "metadata": {
        "id": "1qBqaQm_GyO7"
      },
      "outputs": [],
      "source": [
        "# save dataset\n",
        "all_stations.to_file('Data/all_stations.geojson')"
      ]
    },
    {
      "cell_type": "markdown",
      "metadata": {
        "id": "UQBFRdwCMaWt"
      },
      "source": [
        "## LA County 2020 Census Tracts Data"
      ]
    },
    {
      "cell_type": "code",
      "execution_count": 494,
      "metadata": {
        "id": "c-I67wrOft1k"
      },
      "outputs": [],
      "source": [
        "# read in LA county census tracts data\n",
        "cts = gpd.read_file('Data/LA_County_2020_Census_Tracts.geojson')"
      ]
    },
    {
      "cell_type": "code",
      "execution_count": 495,
      "metadata": {
        "colab": {
          "base_uri": "https://localhost:8080/",
          "height": 206
        },
        "id": "95cVJIHBMhFC",
        "outputId": "2feea845-1640-44db-f84f-6d4de04495fc"
      },
      "outputs": [
        {
          "data": {
            "text/html": [
              "<div>\n",
              "<style scoped>\n",
              "    .dataframe tbody tr th:only-of-type {\n",
              "        vertical-align: middle;\n",
              "    }\n",
              "\n",
              "    .dataframe tbody tr th {\n",
              "        vertical-align: top;\n",
              "    }\n",
              "\n",
              "    .dataframe thead th {\n",
              "        text-align: right;\n",
              "    }\n",
              "</style>\n",
              "<table border=\"1\" class=\"dataframe\">\n",
              "  <thead>\n",
              "    <tr style=\"text-align: right;\">\n",
              "      <th></th>\n",
              "      <th>OBJECTID</th>\n",
              "      <th>CT20</th>\n",
              "      <th>LABEL</th>\n",
              "      <th>ShapeSTArea</th>\n",
              "      <th>ShapeSTLength</th>\n",
              "      <th>geometry</th>\n",
              "    </tr>\n",
              "  </thead>\n",
              "  <tbody>\n",
              "    <tr>\n",
              "      <th>0</th>\n",
              "      <td>4992</td>\n",
              "      <td>101110</td>\n",
              "      <td>1011.10</td>\n",
              "      <td>1.229562e+07</td>\n",
              "      <td>15083.854287</td>\n",
              "      <td>POLYGON ((-118.29793 34.26323, -118.30082 34.2...</td>\n",
              "    </tr>\n",
              "    <tr>\n",
              "      <th>1</th>\n",
              "      <td>4993</td>\n",
              "      <td>101122</td>\n",
              "      <td>1011.22</td>\n",
              "      <td>2.845774e+07</td>\n",
              "      <td>31671.455844</td>\n",
              "      <td>POLYGON ((-118.27743 34.25991, -118.27743 34.2...</td>\n",
              "    </tr>\n",
              "    <tr>\n",
              "      <th>2</th>\n",
              "      <td>4994</td>\n",
              "      <td>101220</td>\n",
              "      <td>1012.20</td>\n",
              "      <td>7.522093e+06</td>\n",
              "      <td>12698.783810</td>\n",
              "      <td>POLYGON ((-118.27818 34.25577, -118.27887 34.2...</td>\n",
              "    </tr>\n",
              "    <tr>\n",
              "      <th>3</th>\n",
              "      <td>4995</td>\n",
              "      <td>101221</td>\n",
              "      <td>1012.21</td>\n",
              "      <td>3.812000e+06</td>\n",
              "      <td>9161.710543</td>\n",
              "      <td>POLYGON ((-118.28735 34.25591, -118.28863 34.2...</td>\n",
              "    </tr>\n",
              "    <tr>\n",
              "      <th>4</th>\n",
              "      <td>4996</td>\n",
              "      <td>101222</td>\n",
              "      <td>1012.22</td>\n",
              "      <td>3.191371e+06</td>\n",
              "      <td>9980.600461</td>\n",
              "      <td>POLYGON ((-118.28594 34.2559, -118.28697 34.25...</td>\n",
              "    </tr>\n",
              "  </tbody>\n",
              "</table>\n",
              "</div>"
            ],
            "text/plain": [
              "   OBJECTID    CT20    LABEL   ShapeSTArea  ShapeSTLength  \\\n",
              "0      4992  101110  1011.10  1.229562e+07   15083.854287   \n",
              "1      4993  101122  1011.22  2.845774e+07   31671.455844   \n",
              "2      4994  101220  1012.20  7.522093e+06   12698.783810   \n",
              "3      4995  101221  1012.21  3.812000e+06    9161.710543   \n",
              "4      4996  101222  1012.22  3.191371e+06    9980.600461   \n",
              "\n",
              "                                            geometry  \n",
              "0  POLYGON ((-118.29793 34.26323, -118.30082 34.2...  \n",
              "1  POLYGON ((-118.27743 34.25991, -118.27743 34.2...  \n",
              "2  POLYGON ((-118.27818 34.25577, -118.27887 34.2...  \n",
              "3  POLYGON ((-118.28735 34.25591, -118.28863 34.2...  \n",
              "4  POLYGON ((-118.28594 34.2559, -118.28697 34.25...  "
            ]
          },
          "execution_count": 495,
          "metadata": {},
          "output_type": "execute_result"
        }
      ],
      "source": [
        "# preview\n",
        "cts.head()"
      ]
    },
    {
      "cell_type": "code",
      "execution_count": 496,
      "metadata": {
        "colab": {
          "base_uri": "https://localhost:8080/"
        },
        "id": "KhCywGEIM1bL",
        "outputId": "187e7254-e6e3-45a9-850d-dca6ba47f05c"
      },
      "outputs": [
        {
          "data": {
            "text/plain": [
              "<Geographic 2D CRS: EPSG:4326>\n",
              "Name: WGS 84\n",
              "Axis Info [ellipsoidal]:\n",
              "- Lat[north]: Geodetic latitude (degree)\n",
              "- Lon[east]: Geodetic longitude (degree)\n",
              "Area of Use:\n",
              "- name: World.\n",
              "- bounds: (-180.0, -90.0, 180.0, 90.0)\n",
              "Datum: World Geodetic System 1984 ensemble\n",
              "- Ellipsoid: WGS 84\n",
              "- Prime Meridian: Greenwich"
            ]
          },
          "execution_count": 496,
          "metadata": {},
          "output_type": "execute_result"
        }
      ],
      "source": [
        "# check crs\n",
        "cts.crs"
      ]
    },
    {
      "cell_type": "code",
      "execution_count": 497,
      "metadata": {
        "id": "cuE-wx2bMlNT"
      },
      "outputs": [],
      "source": [
        "# drop unnecessary columns\n",
        "cts = cts.drop(columns = [\n",
        "    'OBJECTID',\n",
        "    'CT20',\n",
        "    'ShapeSTLength',\n",
        "    'ShapeSTArea'\n",
        "])"
      ]
    },
    {
      "cell_type": "code",
      "execution_count": 498,
      "metadata": {
        "id": "F0jCFzzUMo-Y"
      },
      "outputs": [],
      "source": [
        "# rename some columns\n",
        "cts = cts.rename(columns = {\n",
        "    'LABEL': 'TRACT'\n",
        "})"
      ]
    },
    {
      "cell_type": "code",
      "execution_count": 499,
      "metadata": {
        "id": "0dQeQaXuMrN6"
      },
      "outputs": [],
      "source": [
        "# set TRACT values as float\n",
        "cts['TRACT'] = cts['TRACT'].astype(float)"
      ]
    },
    {
      "cell_type": "code",
      "execution_count": 500,
      "metadata": {
        "colab": {
          "base_uri": "https://localhost:8080/",
          "height": 206
        },
        "id": "XdhHcZiTMt8q",
        "outputId": "6952da37-1a5a-49f1-9f35-804c9653be4f"
      },
      "outputs": [
        {
          "data": {
            "text/html": [
              "<div>\n",
              "<style scoped>\n",
              "    .dataframe tbody tr th:only-of-type {\n",
              "        vertical-align: middle;\n",
              "    }\n",
              "\n",
              "    .dataframe tbody tr th {\n",
              "        vertical-align: top;\n",
              "    }\n",
              "\n",
              "    .dataframe thead th {\n",
              "        text-align: right;\n",
              "    }\n",
              "</style>\n",
              "<table border=\"1\" class=\"dataframe\">\n",
              "  <thead>\n",
              "    <tr style=\"text-align: right;\">\n",
              "      <th></th>\n",
              "      <th>TRACT</th>\n",
              "      <th>geometry</th>\n",
              "    </tr>\n",
              "  </thead>\n",
              "  <tbody>\n",
              "    <tr>\n",
              "      <th>0</th>\n",
              "      <td>1011.10</td>\n",
              "      <td>POLYGON ((-118.29793 34.26323, -118.30082 34.2...</td>\n",
              "    </tr>\n",
              "    <tr>\n",
              "      <th>1</th>\n",
              "      <td>1011.22</td>\n",
              "      <td>POLYGON ((-118.27743 34.25991, -118.27743 34.2...</td>\n",
              "    </tr>\n",
              "    <tr>\n",
              "      <th>2</th>\n",
              "      <td>1012.20</td>\n",
              "      <td>POLYGON ((-118.27818 34.25577, -118.27887 34.2...</td>\n",
              "    </tr>\n",
              "    <tr>\n",
              "      <th>3</th>\n",
              "      <td>1012.21</td>\n",
              "      <td>POLYGON ((-118.28735 34.25591, -118.28863 34.2...</td>\n",
              "    </tr>\n",
              "    <tr>\n",
              "      <th>4</th>\n",
              "      <td>1012.22</td>\n",
              "      <td>POLYGON ((-118.28594 34.2559, -118.28697 34.25...</td>\n",
              "    </tr>\n",
              "  </tbody>\n",
              "</table>\n",
              "</div>"
            ],
            "text/plain": [
              "     TRACT                                           geometry\n",
              "0  1011.10  POLYGON ((-118.29793 34.26323, -118.30082 34.2...\n",
              "1  1011.22  POLYGON ((-118.27743 34.25991, -118.27743 34.2...\n",
              "2  1012.20  POLYGON ((-118.27818 34.25577, -118.27887 34.2...\n",
              "3  1012.21  POLYGON ((-118.28735 34.25591, -118.28863 34.2...\n",
              "4  1012.22  POLYGON ((-118.28594 34.2559, -118.28697 34.25..."
            ]
          },
          "execution_count": 500,
          "metadata": {},
          "output_type": "execute_result"
        }
      ],
      "source": [
        "# preview dataset\n",
        "cts.head()"
      ]
    },
    {
      "cell_type": "markdown",
      "metadata": {
        "id": "gDDJETtOL3Um"
      },
      "source": [
        "## Calfornia SVI Data"
      ]
    },
    {
      "cell_type": "code",
      "execution_count": 501,
      "metadata": {
        "id": "4EYLcIjU_b_i"
      },
      "outputs": [],
      "source": [
        "# read in CA SVI data\n",
        "ca_svi = pd.read_csv('Data/California_2022_SVI.csv')"
      ]
    },
    {
      "cell_type": "code",
      "execution_count": 502,
      "metadata": {
        "colab": {
          "base_uri": "https://localhost:8080/",
          "height": 322
        },
        "id": "FZ-a_LUf9lIT",
        "outputId": "66dfd2f4-b011-4a3b-d14e-9e81f8b008e6"
      },
      "outputs": [
        {
          "data": {
            "text/html": [
              "<div>\n",
              "<style scoped>\n",
              "    .dataframe tbody tr th:only-of-type {\n",
              "        vertical-align: middle;\n",
              "    }\n",
              "\n",
              "    .dataframe tbody tr th {\n",
              "        vertical-align: top;\n",
              "    }\n",
              "\n",
              "    .dataframe thead th {\n",
              "        text-align: right;\n",
              "    }\n",
              "</style>\n",
              "<table border=\"1\" class=\"dataframe\">\n",
              "  <thead>\n",
              "    <tr style=\"text-align: right;\">\n",
              "      <th></th>\n",
              "      <th>ST</th>\n",
              "      <th>STATE</th>\n",
              "      <th>ST_ABBR</th>\n",
              "      <th>STCNTY</th>\n",
              "      <th>COUNTY</th>\n",
              "      <th>FIPS</th>\n",
              "      <th>LOCATION</th>\n",
              "      <th>AREA_SQMI</th>\n",
              "      <th>E_TOTPOP</th>\n",
              "      <th>M_TOTPOP</th>\n",
              "      <th>...</th>\n",
              "      <th>EP_ASIAN</th>\n",
              "      <th>MP_ASIAN</th>\n",
              "      <th>EP_AIAN</th>\n",
              "      <th>MP_AIAN</th>\n",
              "      <th>EP_NHPI</th>\n",
              "      <th>MP_NHPI</th>\n",
              "      <th>EP_TWOMORE</th>\n",
              "      <th>MP_TWOMORE</th>\n",
              "      <th>EP_OTHERRACE</th>\n",
              "      <th>MP_OTHERRACE</th>\n",
              "    </tr>\n",
              "  </thead>\n",
              "  <tbody>\n",
              "    <tr>\n",
              "      <th>0</th>\n",
              "      <td>6</td>\n",
              "      <td>California</td>\n",
              "      <td>CA</td>\n",
              "      <td>6001</td>\n",
              "      <td>Alameda County</td>\n",
              "      <td>6001400100</td>\n",
              "      <td>Census Tract 4001; Alameda County; California</td>\n",
              "      <td>2.681809</td>\n",
              "      <td>3269</td>\n",
              "      <td>452</td>\n",
              "      <td>...</td>\n",
              "      <td>14.6</td>\n",
              "      <td>3.7</td>\n",
              "      <td>0.0</td>\n",
              "      <td>1.2</td>\n",
              "      <td>0.0</td>\n",
              "      <td>1.2</td>\n",
              "      <td>5.3</td>\n",
              "      <td>2.7</td>\n",
              "      <td>0.8</td>\n",
              "      <td>0.9</td>\n",
              "    </tr>\n",
              "    <tr>\n",
              "      <th>1</th>\n",
              "      <td>6</td>\n",
              "      <td>California</td>\n",
              "      <td>CA</td>\n",
              "      <td>6001</td>\n",
              "      <td>Alameda County</td>\n",
              "      <td>6001400200</td>\n",
              "      <td>Census Tract 4002; Alameda County; California</td>\n",
              "      <td>0.226472</td>\n",
              "      <td>2147</td>\n",
              "      <td>201</td>\n",
              "      <td>...</td>\n",
              "      <td>11.7</td>\n",
              "      <td>4.5</td>\n",
              "      <td>0.4</td>\n",
              "      <td>0.7</td>\n",
              "      <td>0.0</td>\n",
              "      <td>1.8</td>\n",
              "      <td>8.5</td>\n",
              "      <td>3.4</td>\n",
              "      <td>0.4</td>\n",
              "      <td>0.5</td>\n",
              "    </tr>\n",
              "    <tr>\n",
              "      <th>2</th>\n",
              "      <td>6</td>\n",
              "      <td>California</td>\n",
              "      <td>CA</td>\n",
              "      <td>6001</td>\n",
              "      <td>Alameda County</td>\n",
              "      <td>6001400300</td>\n",
              "      <td>Census Tract 4003; Alameda County; California</td>\n",
              "      <td>0.428898</td>\n",
              "      <td>5619</td>\n",
              "      <td>571</td>\n",
              "      <td>...</td>\n",
              "      <td>11.3</td>\n",
              "      <td>3.3</td>\n",
              "      <td>0.5</td>\n",
              "      <td>0.5</td>\n",
              "      <td>0.0</td>\n",
              "      <td>0.7</td>\n",
              "      <td>9.1</td>\n",
              "      <td>4.8</td>\n",
              "      <td>1.1</td>\n",
              "      <td>1.0</td>\n",
              "    </tr>\n",
              "    <tr>\n",
              "      <th>3</th>\n",
              "      <td>6</td>\n",
              "      <td>California</td>\n",
              "      <td>CA</td>\n",
              "      <td>6001</td>\n",
              "      <td>Alameda County</td>\n",
              "      <td>6001400400</td>\n",
              "      <td>Census Tract 4004; Alameda County; California</td>\n",
              "      <td>0.276502</td>\n",
              "      <td>4278</td>\n",
              "      <td>598</td>\n",
              "      <td>...</td>\n",
              "      <td>8.7</td>\n",
              "      <td>2.7</td>\n",
              "      <td>0.5</td>\n",
              "      <td>0.7</td>\n",
              "      <td>0.0</td>\n",
              "      <td>0.9</td>\n",
              "      <td>7.7</td>\n",
              "      <td>3.1</td>\n",
              "      <td>0.2</td>\n",
              "      <td>0.2</td>\n",
              "    </tr>\n",
              "    <tr>\n",
              "      <th>4</th>\n",
              "      <td>6</td>\n",
              "      <td>California</td>\n",
              "      <td>CA</td>\n",
              "      <td>6001</td>\n",
              "      <td>Alameda County</td>\n",
              "      <td>6001400500</td>\n",
              "      <td>Census Tract 4005; Alameda County; California</td>\n",
              "      <td>0.228350</td>\n",
              "      <td>3949</td>\n",
              "      <td>737</td>\n",
              "      <td>...</td>\n",
              "      <td>9.4</td>\n",
              "      <td>4.5</td>\n",
              "      <td>0.1</td>\n",
              "      <td>0.2</td>\n",
              "      <td>0.2</td>\n",
              "      <td>0.3</td>\n",
              "      <td>8.3</td>\n",
              "      <td>5.0</td>\n",
              "      <td>0.0</td>\n",
              "      <td>1.0</td>\n",
              "    </tr>\n",
              "  </tbody>\n",
              "</table>\n",
              "<p>5 rows × 158 columns</p>\n",
              "</div>"
            ],
            "text/plain": [
              "   ST       STATE ST_ABBR  STCNTY          COUNTY        FIPS  \\\n",
              "0   6  California      CA    6001  Alameda County  6001400100   \n",
              "1   6  California      CA    6001  Alameda County  6001400200   \n",
              "2   6  California      CA    6001  Alameda County  6001400300   \n",
              "3   6  California      CA    6001  Alameda County  6001400400   \n",
              "4   6  California      CA    6001  Alameda County  6001400500   \n",
              "\n",
              "                                        LOCATION  AREA_SQMI  E_TOTPOP  \\\n",
              "0  Census Tract 4001; Alameda County; California   2.681809      3269   \n",
              "1  Census Tract 4002; Alameda County; California   0.226472      2147   \n",
              "2  Census Tract 4003; Alameda County; California   0.428898      5619   \n",
              "3  Census Tract 4004; Alameda County; California   0.276502      4278   \n",
              "4  Census Tract 4005; Alameda County; California   0.228350      3949   \n",
              "\n",
              "   M_TOTPOP  ...  EP_ASIAN  MP_ASIAN  EP_AIAN  MP_AIAN  EP_NHPI  MP_NHPI  \\\n",
              "0       452  ...      14.6       3.7      0.0      1.2      0.0      1.2   \n",
              "1       201  ...      11.7       4.5      0.4      0.7      0.0      1.8   \n",
              "2       571  ...      11.3       3.3      0.5      0.5      0.0      0.7   \n",
              "3       598  ...       8.7       2.7      0.5      0.7      0.0      0.9   \n",
              "4       737  ...       9.4       4.5      0.1      0.2      0.2      0.3   \n",
              "\n",
              "   EP_TWOMORE  MP_TWOMORE  EP_OTHERRACE  MP_OTHERRACE  \n",
              "0         5.3         2.7           0.8           0.9  \n",
              "1         8.5         3.4           0.4           0.5  \n",
              "2         9.1         4.8           1.1           1.0  \n",
              "3         7.7         3.1           0.2           0.2  \n",
              "4         8.3         5.0           0.0           1.0  \n",
              "\n",
              "[5 rows x 158 columns]"
            ]
          },
          "execution_count": 502,
          "metadata": {},
          "output_type": "execute_result"
        }
      ],
      "source": [
        "# preview data\n",
        "ca_svi.head()"
      ]
    },
    {
      "cell_type": "code",
      "execution_count": 503,
      "metadata": {
        "id": "wfFEiDdbL83P"
      },
      "outputs": [],
      "source": [
        "# only keep observations within LA county\n",
        "svi = ca_svi[ca_svi['COUNTY'] == 'Los Angeles County']"
      ]
    },
    {
      "cell_type": "code",
      "execution_count": 504,
      "metadata": {
        "id": "U5WG4QTO-BWI"
      },
      "outputs": [],
      "source": [
        "# reset index & drop old index\n",
        "svi = svi.reset_index(drop = True)"
      ]
    },
    {
      "cell_type": "code",
      "execution_count": 505,
      "metadata": {
        "id": "li3w_ZLMM-pN"
      },
      "outputs": [],
      "source": [
        "# drop unnecessary columns\n",
        "svi = svi.drop(columns = [\n",
        "    'ST',\n",
        "    'STATE',\n",
        "    'ST_ABBR',\n",
        "    'STCNTY',\n",
        "    'COUNTY',\n",
        "    'FIPS',\n",
        "    'AREA_SQMI'\n",
        "])"
      ]
    },
    {
      "cell_type": "code",
      "execution_count": 506,
      "metadata": {
        "id": "Ti__v0prIExW"
      },
      "outputs": [],
      "source": [
        "# retrieve census tract number\n",
        "svi['LOCATION'] = svi['LOCATION'].astype(str)\n",
        "svi['TRACT'] = svi['LOCATION'].str.extract(r'(\\d+\\.\\d+|\\d+)')\n",
        "svi['TRACT'] = svi['TRACT'].astype(float)"
      ]
    },
    {
      "cell_type": "code",
      "execution_count": 507,
      "metadata": {
        "id": "pkhiyFVSNBn-"
      },
      "outputs": [],
      "source": [
        "# drop location (no longer needed)\n",
        "svi = svi.drop(columns = ['LOCATION'])"
      ]
    },
    {
      "cell_type": "code",
      "execution_count": 508,
      "metadata": {
        "colab": {
          "base_uri": "https://localhost:8080/",
          "height": 236
        },
        "id": "8FEiWM9UNIck",
        "outputId": "eeb81f6a-6b8f-410d-a39b-a6d69a0dfc85"
      },
      "outputs": [
        {
          "data": {
            "text/html": [
              "<div>\n",
              "<style scoped>\n",
              "    .dataframe tbody tr th:only-of-type {\n",
              "        vertical-align: middle;\n",
              "    }\n",
              "\n",
              "    .dataframe tbody tr th {\n",
              "        vertical-align: top;\n",
              "    }\n",
              "\n",
              "    .dataframe thead th {\n",
              "        text-align: right;\n",
              "    }\n",
              "</style>\n",
              "<table border=\"1\" class=\"dataframe\">\n",
              "  <thead>\n",
              "    <tr style=\"text-align: right;\">\n",
              "      <th></th>\n",
              "      <th>E_TOTPOP</th>\n",
              "      <th>M_TOTPOP</th>\n",
              "      <th>E_HU</th>\n",
              "      <th>M_HU</th>\n",
              "      <th>E_HH</th>\n",
              "      <th>M_HH</th>\n",
              "      <th>E_POV150</th>\n",
              "      <th>M_POV150</th>\n",
              "      <th>E_UNEMP</th>\n",
              "      <th>M_UNEMP</th>\n",
              "      <th>...</th>\n",
              "      <th>MP_ASIAN</th>\n",
              "      <th>EP_AIAN</th>\n",
              "      <th>MP_AIAN</th>\n",
              "      <th>EP_NHPI</th>\n",
              "      <th>MP_NHPI</th>\n",
              "      <th>EP_TWOMORE</th>\n",
              "      <th>MP_TWOMORE</th>\n",
              "      <th>EP_OTHERRACE</th>\n",
              "      <th>MP_OTHERRACE</th>\n",
              "      <th>TRACT</th>\n",
              "    </tr>\n",
              "  </thead>\n",
              "  <tbody>\n",
              "    <tr>\n",
              "      <th>0</th>\n",
              "      <td>4014</td>\n",
              "      <td>473</td>\n",
              "      <td>1652</td>\n",
              "      <td>97</td>\n",
              "      <td>1551</td>\n",
              "      <td>130</td>\n",
              "      <td>586</td>\n",
              "      <td>214</td>\n",
              "      <td>177</td>\n",
              "      <td>85</td>\n",
              "      <td>...</td>\n",
              "      <td>3.8</td>\n",
              "      <td>0.2</td>\n",
              "      <td>0.4</td>\n",
              "      <td>0.0</td>\n",
              "      <td>1.0</td>\n",
              "      <td>4.2</td>\n",
              "      <td>2.8</td>\n",
              "      <td>0.2</td>\n",
              "      <td>0.3</td>\n",
              "      <td>1011.10</td>\n",
              "    </tr>\n",
              "    <tr>\n",
              "      <th>1</th>\n",
              "      <td>4164</td>\n",
              "      <td>822</td>\n",
              "      <td>1427</td>\n",
              "      <td>170</td>\n",
              "      <td>1383</td>\n",
              "      <td>160</td>\n",
              "      <td>404</td>\n",
              "      <td>236</td>\n",
              "      <td>220</td>\n",
              "      <td>95</td>\n",
              "      <td>...</td>\n",
              "      <td>5.2</td>\n",
              "      <td>0.0</td>\n",
              "      <td>1.0</td>\n",
              "      <td>0.0</td>\n",
              "      <td>1.0</td>\n",
              "      <td>6.0</td>\n",
              "      <td>3.1</td>\n",
              "      <td>0.3</td>\n",
              "      <td>0.5</td>\n",
              "      <td>1011.22</td>\n",
              "    </tr>\n",
              "    <tr>\n",
              "      <th>2</th>\n",
              "      <td>3481</td>\n",
              "      <td>467</td>\n",
              "      <td>1372</td>\n",
              "      <td>207</td>\n",
              "      <td>1349</td>\n",
              "      <td>208</td>\n",
              "      <td>768</td>\n",
              "      <td>286</td>\n",
              "      <td>247</td>\n",
              "      <td>117</td>\n",
              "      <td>...</td>\n",
              "      <td>6.0</td>\n",
              "      <td>1.3</td>\n",
              "      <td>2.1</td>\n",
              "      <td>0.0</td>\n",
              "      <td>1.1</td>\n",
              "      <td>1.4</td>\n",
              "      <td>1.1</td>\n",
              "      <td>0.1</td>\n",
              "      <td>0.2</td>\n",
              "      <td>1012.20</td>\n",
              "    </tr>\n",
              "    <tr>\n",
              "      <th>3</th>\n",
              "      <td>3756</td>\n",
              "      <td>687</td>\n",
              "      <td>1549</td>\n",
              "      <td>285</td>\n",
              "      <td>1424</td>\n",
              "      <td>293</td>\n",
              "      <td>1034</td>\n",
              "      <td>576</td>\n",
              "      <td>79</td>\n",
              "      <td>51</td>\n",
              "      <td>...</td>\n",
              "      <td>5.5</td>\n",
              "      <td>0.0</td>\n",
              "      <td>1.1</td>\n",
              "      <td>0.0</td>\n",
              "      <td>1.1</td>\n",
              "      <td>1.6</td>\n",
              "      <td>1.9</td>\n",
              "      <td>2.8</td>\n",
              "      <td>3.0</td>\n",
              "      <td>1012.21</td>\n",
              "    </tr>\n",
              "    <tr>\n",
              "      <th>4</th>\n",
              "      <td>2808</td>\n",
              "      <td>424</td>\n",
              "      <td>1006</td>\n",
              "      <td>138</td>\n",
              "      <td>928</td>\n",
              "      <td>146</td>\n",
              "      <td>874</td>\n",
              "      <td>398</td>\n",
              "      <td>164</td>\n",
              "      <td>157</td>\n",
              "      <td>...</td>\n",
              "      <td>5.7</td>\n",
              "      <td>0.0</td>\n",
              "      <td>1.4</td>\n",
              "      <td>1.3</td>\n",
              "      <td>2.2</td>\n",
              "      <td>1.6</td>\n",
              "      <td>3.1</td>\n",
              "      <td>0.0</td>\n",
              "      <td>1.4</td>\n",
              "      <td>1012.22</td>\n",
              "    </tr>\n",
              "  </tbody>\n",
              "</table>\n",
              "<p>5 rows × 151 columns</p>\n",
              "</div>"
            ],
            "text/plain": [
              "   E_TOTPOP  M_TOTPOP  E_HU  M_HU  E_HH  M_HH  E_POV150  M_POV150  E_UNEMP  \\\n",
              "0      4014       473  1652    97  1551   130       586       214      177   \n",
              "1      4164       822  1427   170  1383   160       404       236      220   \n",
              "2      3481       467  1372   207  1349   208       768       286      247   \n",
              "3      3756       687  1549   285  1424   293      1034       576       79   \n",
              "4      2808       424  1006   138   928   146       874       398      164   \n",
              "\n",
              "   M_UNEMP  ...  MP_ASIAN  EP_AIAN  MP_AIAN  EP_NHPI  MP_NHPI  EP_TWOMORE  \\\n",
              "0       85  ...       3.8      0.2      0.4      0.0      1.0         4.2   \n",
              "1       95  ...       5.2      0.0      1.0      0.0      1.0         6.0   \n",
              "2      117  ...       6.0      1.3      2.1      0.0      1.1         1.4   \n",
              "3       51  ...       5.5      0.0      1.1      0.0      1.1         1.6   \n",
              "4      157  ...       5.7      0.0      1.4      1.3      2.2         1.6   \n",
              "\n",
              "   MP_TWOMORE  EP_OTHERRACE  MP_OTHERRACE    TRACT  \n",
              "0         2.8           0.2           0.3  1011.10  \n",
              "1         3.1           0.3           0.5  1011.22  \n",
              "2         1.1           0.1           0.2  1012.20  \n",
              "3         1.9           2.8           3.0  1012.21  \n",
              "4         3.1           0.0           1.4  1012.22  \n",
              "\n",
              "[5 rows x 151 columns]"
            ]
          },
          "execution_count": 508,
          "metadata": {},
          "output_type": "execute_result"
        }
      ],
      "source": [
        "# preview cleaned data\n",
        "svi.head()"
      ]
    },
    {
      "cell_type": "markdown",
      "metadata": {
        "id": "mIFAf_s5NNTc"
      },
      "source": [
        "## Merging Census Tract Data & SVI Data"
      ]
    },
    {
      "cell_type": "code",
      "execution_count": 509,
      "metadata": {
        "id": "DiYy0hboj863"
      },
      "outputs": [],
      "source": [
        "# merge dataframes on tract number\n",
        "svi_tracts = cts.merge(svi, how = 'outer', on = 'TRACT')"
      ]
    },
    {
      "cell_type": "code",
      "execution_count": 510,
      "metadata": {
        "id": "IUX0B-fB-nUQ"
      },
      "outputs": [],
      "source": [
        "# replace -999 values with NaN\n",
        "svi_tracts = svi_tracts.replace(-999, np.nan)"
      ]
    },
    {
      "cell_type": "code",
      "execution_count": 511,
      "metadata": {
        "id": "A6SYrwiBKsb7"
      },
      "outputs": [],
      "source": [
        "# column names to snake case\n",
        "svi_tracts = clean_columns(svi_tracts)"
      ]
    },
    {
      "cell_type": "code",
      "execution_count": 512,
      "metadata": {
        "colab": {
          "base_uri": "https://localhost:8080/",
          "height": 322
        },
        "id": "SNavTmwt-0M8",
        "outputId": "9f3cdca2-ec49-4021-dca7-71da2705167f"
      },
      "outputs": [
        {
          "data": {
            "text/html": [
              "<div>\n",
              "<style scoped>\n",
              "    .dataframe tbody tr th:only-of-type {\n",
              "        vertical-align: middle;\n",
              "    }\n",
              "\n",
              "    .dataframe tbody tr th {\n",
              "        vertical-align: top;\n",
              "    }\n",
              "\n",
              "    .dataframe thead th {\n",
              "        text-align: right;\n",
              "    }\n",
              "</style>\n",
              "<table border=\"1\" class=\"dataframe\">\n",
              "  <thead>\n",
              "    <tr style=\"text-align: right;\">\n",
              "      <th></th>\n",
              "      <th>tract</th>\n",
              "      <th>geometry</th>\n",
              "      <th>e_totpop</th>\n",
              "      <th>m_totpop</th>\n",
              "      <th>e_hu</th>\n",
              "      <th>m_hu</th>\n",
              "      <th>e_hh</th>\n",
              "      <th>m_hh</th>\n",
              "      <th>e_pov_150</th>\n",
              "      <th>m_pov_150</th>\n",
              "      <th>...</th>\n",
              "      <th>ep_asian</th>\n",
              "      <th>mp_asian</th>\n",
              "      <th>ep_aian</th>\n",
              "      <th>mp_aian</th>\n",
              "      <th>ep_nhpi</th>\n",
              "      <th>mp_nhpi</th>\n",
              "      <th>ep_twomore</th>\n",
              "      <th>mp_twomore</th>\n",
              "      <th>ep_otherrace</th>\n",
              "      <th>mp_otherrace</th>\n",
              "    </tr>\n",
              "  </thead>\n",
              "  <tbody>\n",
              "    <tr>\n",
              "      <th>0</th>\n",
              "      <td>1011.10</td>\n",
              "      <td>POLYGON ((-118.29793 34.26323, -118.30082 34.2...</td>\n",
              "      <td>4014.0</td>\n",
              "      <td>473.0</td>\n",
              "      <td>1652.0</td>\n",
              "      <td>97.0</td>\n",
              "      <td>1551.0</td>\n",
              "      <td>130.0</td>\n",
              "      <td>586.0</td>\n",
              "      <td>214.0</td>\n",
              "      <td>...</td>\n",
              "      <td>9.7</td>\n",
              "      <td>3.8</td>\n",
              "      <td>0.2</td>\n",
              "      <td>0.4</td>\n",
              "      <td>0.0</td>\n",
              "      <td>1.0</td>\n",
              "      <td>4.2</td>\n",
              "      <td>2.8</td>\n",
              "      <td>0.2</td>\n",
              "      <td>0.3</td>\n",
              "    </tr>\n",
              "    <tr>\n",
              "      <th>1</th>\n",
              "      <td>1011.22</td>\n",
              "      <td>POLYGON ((-118.27743 34.25991, -118.27743 34.2...</td>\n",
              "      <td>4164.0</td>\n",
              "      <td>822.0</td>\n",
              "      <td>1427.0</td>\n",
              "      <td>170.0</td>\n",
              "      <td>1383.0</td>\n",
              "      <td>160.0</td>\n",
              "      <td>404.0</td>\n",
              "      <td>236.0</td>\n",
              "      <td>...</td>\n",
              "      <td>14.0</td>\n",
              "      <td>5.2</td>\n",
              "      <td>0.0</td>\n",
              "      <td>1.0</td>\n",
              "      <td>0.0</td>\n",
              "      <td>1.0</td>\n",
              "      <td>6.0</td>\n",
              "      <td>3.1</td>\n",
              "      <td>0.3</td>\n",
              "      <td>0.5</td>\n",
              "    </tr>\n",
              "    <tr>\n",
              "      <th>2</th>\n",
              "      <td>1012.20</td>\n",
              "      <td>POLYGON ((-118.27818 34.25577, -118.27887 34.2...</td>\n",
              "      <td>3481.0</td>\n",
              "      <td>467.0</td>\n",
              "      <td>1372.0</td>\n",
              "      <td>207.0</td>\n",
              "      <td>1349.0</td>\n",
              "      <td>208.0</td>\n",
              "      <td>768.0</td>\n",
              "      <td>286.0</td>\n",
              "      <td>...</td>\n",
              "      <td>12.4</td>\n",
              "      <td>6.0</td>\n",
              "      <td>1.3</td>\n",
              "      <td>2.1</td>\n",
              "      <td>0.0</td>\n",
              "      <td>1.1</td>\n",
              "      <td>1.4</td>\n",
              "      <td>1.1</td>\n",
              "      <td>0.1</td>\n",
              "      <td>0.2</td>\n",
              "    </tr>\n",
              "    <tr>\n",
              "      <th>3</th>\n",
              "      <td>1012.21</td>\n",
              "      <td>POLYGON ((-118.28735 34.25591, -118.28863 34.2...</td>\n",
              "      <td>3756.0</td>\n",
              "      <td>687.0</td>\n",
              "      <td>1549.0</td>\n",
              "      <td>285.0</td>\n",
              "      <td>1424.0</td>\n",
              "      <td>293.0</td>\n",
              "      <td>1034.0</td>\n",
              "      <td>576.0</td>\n",
              "      <td>...</td>\n",
              "      <td>8.4</td>\n",
              "      <td>5.5</td>\n",
              "      <td>0.0</td>\n",
              "      <td>1.1</td>\n",
              "      <td>0.0</td>\n",
              "      <td>1.1</td>\n",
              "      <td>1.6</td>\n",
              "      <td>1.9</td>\n",
              "      <td>2.8</td>\n",
              "      <td>3.0</td>\n",
              "    </tr>\n",
              "    <tr>\n",
              "      <th>4</th>\n",
              "      <td>1012.22</td>\n",
              "      <td>POLYGON ((-118.28594 34.2559, -118.28697 34.25...</td>\n",
              "      <td>2808.0</td>\n",
              "      <td>424.0</td>\n",
              "      <td>1006.0</td>\n",
              "      <td>138.0</td>\n",
              "      <td>928.0</td>\n",
              "      <td>146.0</td>\n",
              "      <td>874.0</td>\n",
              "      <td>398.0</td>\n",
              "      <td>...</td>\n",
              "      <td>4.9</td>\n",
              "      <td>5.7</td>\n",
              "      <td>0.0</td>\n",
              "      <td>1.4</td>\n",
              "      <td>1.3</td>\n",
              "      <td>2.2</td>\n",
              "      <td>1.6</td>\n",
              "      <td>3.1</td>\n",
              "      <td>0.0</td>\n",
              "      <td>1.4</td>\n",
              "    </tr>\n",
              "  </tbody>\n",
              "</table>\n",
              "<p>5 rows × 152 columns</p>\n",
              "</div>"
            ],
            "text/plain": [
              "     tract                                           geometry  e_totpop  \\\n",
              "0  1011.10  POLYGON ((-118.29793 34.26323, -118.30082 34.2...    4014.0   \n",
              "1  1011.22  POLYGON ((-118.27743 34.25991, -118.27743 34.2...    4164.0   \n",
              "2  1012.20  POLYGON ((-118.27818 34.25577, -118.27887 34.2...    3481.0   \n",
              "3  1012.21  POLYGON ((-118.28735 34.25591, -118.28863 34.2...    3756.0   \n",
              "4  1012.22  POLYGON ((-118.28594 34.2559, -118.28697 34.25...    2808.0   \n",
              "\n",
              "   m_totpop    e_hu   m_hu    e_hh   m_hh  e_pov_150  m_pov_150  ...  \\\n",
              "0     473.0  1652.0   97.0  1551.0  130.0      586.0      214.0  ...   \n",
              "1     822.0  1427.0  170.0  1383.0  160.0      404.0      236.0  ...   \n",
              "2     467.0  1372.0  207.0  1349.0  208.0      768.0      286.0  ...   \n",
              "3     687.0  1549.0  285.0  1424.0  293.0     1034.0      576.0  ...   \n",
              "4     424.0  1006.0  138.0   928.0  146.0      874.0      398.0  ...   \n",
              "\n",
              "   ep_asian  mp_asian  ep_aian  mp_aian  ep_nhpi  mp_nhpi  ep_twomore  \\\n",
              "0       9.7       3.8      0.2      0.4      0.0      1.0         4.2   \n",
              "1      14.0       5.2      0.0      1.0      0.0      1.0         6.0   \n",
              "2      12.4       6.0      1.3      2.1      0.0      1.1         1.4   \n",
              "3       8.4       5.5      0.0      1.1      0.0      1.1         1.6   \n",
              "4       4.9       5.7      0.0      1.4      1.3      2.2         1.6   \n",
              "\n",
              "   mp_twomore  ep_otherrace  mp_otherrace  \n",
              "0         2.8           0.2           0.3  \n",
              "1         3.1           0.3           0.5  \n",
              "2         1.1           0.1           0.2  \n",
              "3         1.9           2.8           3.0  \n",
              "4         3.1           0.0           1.4  \n",
              "\n",
              "[5 rows x 152 columns]"
            ]
          },
          "execution_count": 512,
          "metadata": {},
          "output_type": "execute_result"
        }
      ],
      "source": [
        "# preview cleaned data\n",
        "svi_tracts.head()"
      ]
    },
    {
      "cell_type": "code",
      "execution_count": 513,
      "metadata": {},
      "outputs": [],
      "source": [
        "svi_tracts = svi_tracts.set_crs('EPSG:4326')"
      ]
    },
    {
      "cell_type": "code",
      "execution_count": 514,
      "metadata": {
        "id": "pqs8UBa7UKpi"
      },
      "outputs": [],
      "source": [
        "# save dataset\n",
        "svi_tracts.to_file('Data/svi_tracts.geojson')"
      ]
    },
    {
      "cell_type": "code",
      "execution_count": null,
      "metadata": {
        "id": "2Zei_dkx_Kgy"
      },
      "outputs": [],
      "source": []
    }
  ],
  "metadata": {
    "colab": {
      "provenance": []
    },
    "kernelspec": {
      "display_name": "tda",
      "language": "python",
      "name": "python3"
    },
    "language_info": {
      "codemirror_mode": {
        "name": "ipython",
        "version": 3
      },
      "file_extension": ".py",
      "mimetype": "text/x-python",
      "name": "python",
      "nbconvert_exporter": "python",
      "pygments_lexer": "ipython3",
      "version": "3.12.9"
    }
  },
  "nbformat": 4,
  "nbformat_minor": 0
}
